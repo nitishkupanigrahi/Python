{
 "cells": [
  {
   "cell_type": "code",
   "execution_count": 1,
   "id": "dcab12ff-a4c4-48a9-8bb7-ba21e6c43faf",
   "metadata": {},
   "outputs": [
    {
     "name": "stdout",
     "output_type": "stream",
     "text": [
      "10\n"
     ]
    }
   ],
   "source": [
    "print(10)"
   ]
  },
  {
   "cell_type": "code",
   "execution_count": 4,
   "id": "c5b21aed-b8c7-40eb-995f-074bf339a741",
   "metadata": {},
   "outputs": [
    {
     "name": "stdout",
     "output_type": "stream",
     "text": [
      "python\n"
     ]
    }
   ],
   "source": [
    "print('python')"
   ]
  },
  {
   "cell_type": "code",
   "execution_count": 5,
   "id": "e493102f-e978-4e55-94a5-d17619c4a76f",
   "metadata": {},
   "outputs": [
    {
     "name": "stdout",
     "output_type": "stream",
     "text": [
      "10 20 30\n"
     ]
    }
   ],
   "source": [
    "print(10,20,30)"
   ]
  },
  {
   "cell_type": "code",
   "execution_count": 6,
   "id": "2bbfa185-5570-40f2-b78c-b3820b3bc469",
   "metadata": {},
   "outputs": [
    {
     "name": "stdout",
     "output_type": "stream",
     "text": [
      "10 10.5 nitish True\n"
     ]
    }
   ],
   "source": [
    "print(10,10.5,'nitish',True)"
   ]
  },
  {
   "cell_type": "code",
   "execution_count": 7,
   "id": "636f564e-49b4-49d8-b18d-6a8924efd3f2",
   "metadata": {},
   "outputs": [
    {
     "name": "stdout",
     "output_type": "stream",
     "text": [
      "10 20\n"
     ]
    }
   ],
   "source": [
    "n1=10\n",
    "n2=20\n",
    "print(n1,n2)\n"
   ]
  },
  {
   "cell_type": "code",
   "execution_count": 8,
   "id": "cfff990f-0473-4058-8f52-aa6d19655bb6",
   "metadata": {},
   "outputs": [
    {
     "name": "stdout",
     "output_type": "stream",
     "text": [
      "10\n",
      "20\n"
     ]
    },
    {
     "data": {
      "text/plain": [
       "(None, None)"
      ]
     },
     "execution_count": 8,
     "metadata": {},
     "output_type": "execute_result"
    }
   ],
   "source": [
    "print(10),print(20)"
   ]
  },
  {
   "cell_type": "code",
   "execution_count": 9,
   "id": "904da961-0dd5-406c-b80f-f345f3da77cc",
   "metadata": {},
   "outputs": [
    {
     "data": {
      "text/plain": [
       "30"
      ]
     },
     "execution_count": 9,
     "metadata": {},
     "output_type": "execute_result"
    }
   ],
   "source": [
    "a=10\n",
    "b=20\n",
    "c=a+b\n",
    "c"
   ]
  },
  {
   "cell_type": "code",
   "execution_count": 10,
   "id": "96f4149f-4b9e-4846-8270-ebe2616bc54a",
   "metadata": {},
   "outputs": [
    {
     "name": "stdout",
     "output_type": "stream",
     "text": [
      "the addition of 10 and 20 is 30\n"
     ]
    }
   ],
   "source": [
    "print(\"the addition of\", a,\"and\",b,\"is\",c)"
   ]
  },
  {
   "cell_type": "code",
   "execution_count": 3,
   "id": "c0622ec4-2365-44fd-b2c4-e89ed22c4ad9",
   "metadata": {},
   "outputs": [
    {
     "name": "stdout",
     "output_type": "stream",
     "text": [
      "the addition of 10 and 20 is 30\n"
     ]
    }
   ],
   "source": [
    "a=10\n",
    "b=20\n",
    "c=a+b\n",
    "c\n",
    "print(\"the addition of {} and {} is {}\".format(a,b,c))"
   ]
  },
  {
   "cell_type": "code",
   "execution_count": 17,
   "id": "fc67eb2e-cfe5-4917-8d5c-5152a2965a5a",
   "metadata": {},
   "outputs": [
    {
     "name": "stdout",
     "output_type": "stream",
     "text": [
      "my name is pythom, i am 10 year old and i am from hydrabad.\n"
     ]
    }
   ],
   "source": [
    "name=\"pythom\"\n",
    "age=10\n",
    "city=\"hydrabad\"\n",
    "print(\"my name is {}, i am {} year old and i am from {}.\".format(name,age,city))"
   ]
  },
  {
   "cell_type": "code",
   "execution_count": 18,
   "id": "7af0faed-7085-40c8-b22a-d0610823a1be",
   "metadata": {},
   "outputs": [
    {
     "name": "stdout",
     "output_type": "stream",
     "text": [
      "my name is pythom, i am 10 year old and i am from hydrabad.\n"
     ]
    }
   ],
   "source": [
    "print(f\"my name is {name}, i am {age} year old and i am from {city}.\")"
   ]
  },
  {
   "cell_type": "code",
   "execution_count": 1,
   "id": "02739bb5-7c4e-4959-a477-0c8c901d30a8",
   "metadata": {},
   "outputs": [
    {
     "name": "stdout",
     "output_type": "stream",
     "text": [
      "the avrage of 100 and 200 is 150.0.\n"
     ]
    }
   ],
   "source": [
    "num1=100\n",
    "num2=200\n",
    "avrage=(num1+num2)/2\n",
    "#the avrage of 100and 200 is 150\n",
    "print(f\"the avrage of {num1} and {num2} is {avrage}.\")"
   ]
  },
  {
   "cell_type": "code",
   "execution_count": 2,
   "id": "e54ee266-1c59-4fee-8db7-43e8f8ee7865",
   "metadata": {},
   "outputs": [
    {
     "name": "stdout",
     "output_type": "stream",
     "text": [
      "the avrage of 100 sbd200 is150.0 \n"
     ]
    }
   ],
   "source": [
    "print(\"the avrage of {} sbd{} is{} \".format(num1,num2,avrage))"
   ]
  },
  {
   "cell_type": "code",
   "execution_count": 3,
   "id": "cc6b2797-50d9-49c4-a40f-99236a81ebfc",
   "metadata": {},
   "outputs": [
    {
     "name": "stdout",
     "output_type": "stream",
     "text": [
      "area of the circle is 314.0\n"
     ]
    }
   ],
   "source": [
    "# take the radius of circle and take the pi value =3.14\n",
    "#find the area of circle = pi*r*r\n",
    "pi=3.14\n",
    "radius=10\n",
    "area=(pi*radius*radius)\n",
    "print(f\"area of the circle is {area}\")"
   ]
  },
  {
   "cell_type": "code",
   "execution_count": 4,
   "id": "35d7599e-5f2e-4f16-832b-66e43bb2d1a1",
   "metadata": {},
   "outputs": [
    {
     "name": "stdout",
     "output_type": "stream",
     "text": [
      "the radius of circle is 314.0\n"
     ]
    }
   ],
   "source": [
    "print(\"the radius of circle is {}\".format(area))"
   ]
  },
  {
   "cell_type": "code",
   "execution_count": 6,
   "id": "c60c727c-b5e2-47e4-875f-ca67f0749b27",
   "metadata": {},
   "outputs": [
    {
     "name": "stdout",
     "output_type": "stream",
     "text": [
      "area of tringlr is 50.0\n",
      "area of tringlr is 50.0\n"
     ]
    }
   ],
   "source": [
    "#take the bredth of tringle\n",
    "# 3take hight of tringle\n",
    "#area=1/2*base*hight\n",
    "hight=10\n",
    "base=10\n",
    "area=(1/2*base*hight)\n",
    "print(\"area of tringlr is {}\".format(area))\n",
    "print(f\"area of tringlr is {area}\")"
   ]
  },
  {
   "cell_type": "code",
   "execution_count": 9,
   "id": "4c16ac6a-fa41-45ce-8267-9c49ec206d17",
   "metadata": {},
   "outputs": [
    {
     "name": "stdout",
     "output_type": "stream",
     "text": [
      "total bill is 1100.0\n",
      "total bill is 1100.0\n"
     ]
    }
   ],
   "source": [
    "#restrunt bill \n",
    "bill_amount=1000\n",
    "tip_persentage=10\n",
    "tip_amount=(tip_persentage/100*bill_amount)\n",
    "total_bill=(bill_amount+tip_amount)\n",
    "print(f\"total bill is {total_bill}\")\n",
    "print(\"total bill is {}\".format(total_bill))"
   ]
  },
  {
   "cell_type": "code",
   "execution_count": 10,
   "id": "d9791d5a-3900-4bab-ac44-044a814e8528",
   "metadata": {},
   "outputs": [
    {
     "name": "stdout",
     "output_type": "stream",
     "text": [
      "10\n",
      "20\n"
     ]
    }
   ],
   "source": [
    "print(10)\n",
    "print(20)\n",
    "\n"
   ]
  },
  {
   "cell_type": "markdown",
   "id": "e74f70f7-8f6e-4b10-92c0-9aa3fbeb6be8",
   "metadata": {},
   "source": [
    "$end operator"
   ]
  },
  {
   "cell_type": "code",
   "execution_count": 14,
   "id": "6ac0bf64-c055-49cc-82d1-2797f0422fe1",
   "metadata": {},
   "outputs": [
    {
     "name": "stdout",
     "output_type": "stream",
     "text": [
      "10 & 20\n"
     ]
    }
   ],
   "source": [
    "print(10,end=' & ')\n",
    "print(20)"
   ]
  },
  {
   "cell_type": "code",
   "execution_count": 16,
   "id": "234642ad-4bde-4f62-9f85-49264663b349",
   "metadata": {},
   "outputs": [
    {
     "name": "stdout",
     "output_type": "stream",
     "text": [
      "10 20 30\n"
     ]
    }
   ],
   "source": [
    "print(10,end=' ')\n",
    "print(20,end=' ')\n",
    "print(30)"
   ]
  },
  {
   "cell_type": "markdown",
   "id": "a7ce2f44-2a14-4ce8-a847-ed3f9295f04f",
   "metadata": {},
   "source": [
    "#seprater oprator\n",
    "- seprate multiple value in a single statementmm"
   ]
  },
  {
   "cell_type": "code",
   "execution_count": 17,
   "id": "4532c77f-7574-4943-9eef-59a6221aecff",
   "metadata": {},
   "outputs": [
    {
     "name": "stdout",
     "output_type": "stream",
     "text": [
      "10 & 20 & 30\n"
     ]
    }
   ],
   "source": [
    "print(10,20,30,sep=' & ')\n",
    "# 107 20&030\n"
   ]
  },
  {
   "cell_type": "code",
   "execution_count": 19,
   "id": "9f803fff-3f06-4fa0-8c2d-b0fe4a6f910f",
   "metadata": {},
   "outputs": [
    {
     "name": "stdout",
     "output_type": "stream",
     "text": [
      "the addition of5 and 3 is 8.\n"
     ]
    }
   ],
   "source": [
    "print (f\"the addition of{5} and {3} is {5+3}.\")"
   ]
  },
  {
   "cell_type": "code",
   "execution_count": null,
   "id": "54db5c24-871f-47a5-9f8c-3ec7b7810fc4",
   "metadata": {},
   "outputs": [],
   "source": []
  }
 ],
 "metadata": {
  "kernelspec": {
   "display_name": "Python 3 (ipykernel)",
   "language": "python",
   "name": "python3"
  },
  "language_info": {
   "codemirror_mode": {
    "name": "ipython",
    "version": 3
   },
   "file_extension": ".py",
   "mimetype": "text/x-python",
   "name": "python",
   "nbconvert_exporter": "python",
   "pygments_lexer": "ipython3",
   "version": "3.11.7"
  }
 },
 "nbformat": 4,
 "nbformat_minor": 5
}
