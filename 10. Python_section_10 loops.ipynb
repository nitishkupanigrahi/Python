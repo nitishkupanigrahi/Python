{
 "cells": [
  {
   "cell_type": "markdown",
   "id": "3caa5ce0-63b5-4ee5-9571-6a37a6fb8216",
   "metadata": {},
   "source": [
    "**Loop**\n",
    "\n",
    "- Iterate a pice of code until the condition satisfy\n",
    "- we can run a code by using function wrapper\n",
    "- we can run a code multiple times (loop)\n",
    "- we can runa a code by using condition\n"
   ]
  },
  {
   "cell_type": "code",
   "execution_count": 1,
   "id": "e298ec51-5a8e-40f9-ab47-dd1e0d97da43",
   "metadata": {},
   "outputs": [
    {
     "name": "stdout",
     "output_type": "stream",
     "text": [
      "30\n"
     ]
    }
   ],
   "source": [
    "a=10\n",
    "b=20\n",
    "c=a+b\n",
    "print(c)"
   ]
  },
  {
   "cell_type": "code",
   "execution_count": 2,
   "id": "81c8ffa2-d876-4036-a627-b27e4e36ce25",
   "metadata": {},
   "outputs": [
    {
     "name": "stdout",
     "output_type": "stream",
     "text": [
      "30\n"
     ]
    }
   ],
   "source": [
    "if True:\n",
    "    \n",
    "    a=10\n",
    "    b=20\n",
    "    c=a+b\n",
    "    print(c)"
   ]
  },
  {
   "cell_type": "code",
   "execution_count": 3,
   "id": "3b04832a-afbc-4676-a91c-cfc1a588791a",
   "metadata": {},
   "outputs": [
    {
     "name": "stdout",
     "output_type": "stream",
     "text": [
      "30\n"
     ]
    }
   ],
   "source": [
    "def add():\n",
    "    a=10\n",
    "    b=20\n",
    "    c=a+b\n",
    "    print(c)\n",
    "add()"
   ]
  },
  {
   "cell_type": "code",
   "execution_count": 4,
   "id": "cb8d6ed2-86b4-4623-bc34-35c32ef094ff",
   "metadata": {},
   "outputs": [
    {
     "name": "stdin",
     "output_type": "stream",
     "text": [
      "enter salary: 50000\n",
      "enter tax persent 5\n"
     ]
    },
    {
     "name": "stdout",
     "output_type": "stream",
     "text": [
      "2500.0\n"
     ]
    }
   ],
   "source": [
    "salary=eval(input(\"enter salary:\"))\n",
    "tax_per=eval(input(\"enter tax persent\"))\n",
    "tax_amount=salary*tax_per/100\n",
    "print(tax_amount)\n"
   ]
  },
  {
   "cell_type": "code",
   "execution_count": 6,
   "id": "31cb9623-700f-41ed-916b-c110f86916c9",
   "metadata": {},
   "outputs": [
    {
     "name": "stdin",
     "output_type": "stream",
     "text": [
      "enter salary: 50000\n",
      "enter tax persent 5\n"
     ]
    },
    {
     "name": "stdout",
     "output_type": "stream",
     "text": [
      "2500.0\n"
     ]
    }
   ],
   "source": [
    "def tax():\n",
    "    salary=eval(input(\"enter salary:\"))\n",
    "    tax_per=eval(input(\"enter tax persent\"))\n",
    "    tax_amount=salary*tax_per/100\n",
    "    print(tax_amount)\n",
    "tax()\n",
    "\n",
    "    "
   ]
  },
  {
   "cell_type": "markdown",
   "id": "0a5dc45b-a510-4ddd-8104-615bba4c9798",
   "metadata": {},
   "source": [
    "- for loop\n",
    "\n",
    "- while loop\n",
    "- any loop\n",
    "    - initial point to start the loop\n",
    "    - increment or decrement\n",
    "    - condition to stop\n"
   ]
  },
  {
   "cell_type": "markdown",
   "id": "9b6f2acc-2b0e-4587-955b-1ab97dc64057",
   "metadata": {},
   "source": [
    "**for loop** patern1"
   ]
  },
  {
   "cell_type": "markdown",
   "id": "93459eea-9099-4219-886e-95160e392405",
   "metadata": {},
   "source": [
    "**range(dtop)**"
   ]
  },
  {
   "cell_type": "raw",
   "id": "a4cc0eb8-ef8a-4a7b-b7ff-0d83c681e072",
   "metadata": {},
   "source": [
    "#sybtax\n",
    "for i in range(<value>):\n",
    "    #start weite your code"
   ]
  },
  {
   "cell_type": "markdown",
   "id": "d1057c84-c7f7-4b8b-817f-010ea37c9df8",
   "metadata": {},
   "source": [
    "- when ever you see the word range it belong to math family\n",
    "- inside rangr we need to provide some value\n",
    "- if you provide only one value then the \n",
    "    - start value =0\n",
    "    - increment= +1\n",
    "    - last= stop-1\n",
    "- range(3)\n",
    "    -start value=0\n",
    "    - incerment=1\n",
    "    - last= 3-1=2\n",
    "    - answer are 0,1m2\n"
   ]
  },
  {
   "cell_type": "code",
   "execution_count": 9,
   "id": "f40d4143-26c1-4a42-ab3a-f9708cf74855",
   "metadata": {},
   "outputs": [
    {
     "name": "stdout",
     "output_type": "stream",
     "text": [
      "0\n",
      "1\n",
      "2\n"
     ]
    }
   ],
   "source": [
    "for i in range(3):\n",
    "    print(i)"
   ]
  },
  {
   "cell_type": "raw",
   "id": "4cd76c2f-85f9-4fde-a422-2e075f9e3025",
   "metadata": {},
   "source": [
    "print(0)\n",
    "print(1)\n",
    "print(2)\n",
    "print(3)\n",
    "print(4)\n",
    "\n",
    "peint(i)"
   ]
  },
  {
   "cell_type": "code",
   "execution_count": 11,
   "id": "4dd34b5a-666b-4daf-98f1-bae12f1c94fd",
   "metadata": {},
   "outputs": [
    {
     "name": "stdout",
     "output_type": "stream",
     "text": [
      "hello\n",
      "hello\n",
      "hello\n",
      "hello\n",
      "hello\n"
     ]
    }
   ],
   "source": [
    "# i want to print hello 5 time\n",
    "for i in range(5):\n",
    "    print(\"hello\")"
   ]
  },
  {
   "cell_type": "code",
   "execution_count": 13,
   "id": "a722ef00-9ee7-46e2-b212-0f97c7db4a3d",
   "metadata": {},
   "outputs": [
    {
     "name": "stdout",
     "output_type": "stream",
     "text": [
      "even number\n"
     ]
    }
   ],
   "source": [
    "# foe ex \n",
    "# take a random number between 1-100 \n",
    "# print it is a even number or odd\n",
    "# you need to grnreate 3 random number\n",
    "\n",
    "import random\n",
    "num=random.randint(1,100)\n",
    "if num%2==0:\n",
    "    print(\"even number\")\n",
    "else:\n",
    "    print(f\"{num} is odd\")"
   ]
  },
  {
   "cell_type": "code",
   "execution_count": 14,
   "id": "b0e13ef4-dad9-4cb1-885b-5c27329aed8a",
   "metadata": {},
   "outputs": [
    {
     "name": "stdout",
     "output_type": "stream",
     "text": [
      "91 is odd\n",
      "even number\n",
      "5 is odd\n"
     ]
    }
   ],
   "source": [
    "for i in range(3):\n",
    "    num=random.randint(1,100)\n",
    "    if num%2==0:\n",
    "        print(\"even number\")\n",
    "    else:\n",
    "        print(f\"{num} is odd\")"
   ]
  },
  {
   "cell_type": "code",
   "execution_count": 15,
   "id": "d0c49771-5339-4d79-a094-001fb194ac2e",
   "metadata": {},
   "outputs": [
    {
     "name": "stdout",
     "output_type": "stream",
     "text": [
      "0\n",
      "1\n",
      "2\n",
      "3\n",
      "4\n",
      "5\n",
      "6\n",
      "7\n",
      "8\n",
      "9\n"
     ]
    }
   ],
   "source": [
    "for i in range(10):\n",
    "    print(i)"
   ]
  },
  {
   "cell_type": "code",
   "execution_count": 18,
   "id": "413ec1ad-d117-4b59-a36e-8183327d93fb",
   "metadata": {},
   "outputs": [
    {
     "name": "stdout",
     "output_type": "stream",
     "text": [
      "0 1 2 3 4 5 6 7 8 9 "
     ]
    }
   ],
   "source": [
    "for i in range(10):\n",
    "    print(i , end=\" \")"
   ]
  },
  {
   "cell_type": "markdown",
   "id": "cdc318e1-b04a-47f4-bcb1-80a20ef9d398",
   "metadata": {},
   "source": [
    "$pattern-2$\n",
    "**range(start,stop)**\n",
    "\n",
    "    - start val=10\n",
    "    - incerment=1\n",
    "    - last=stop-1=20-1=19\n",
    "    - ans:10,11,12,13,14,15,16,17,18\n"
   ]
  },
  {
   "cell_type": "code",
   "execution_count": 19,
   "id": "ba01fa8b-2871-419e-a70e-e65de1d419af",
   "metadata": {},
   "outputs": [
    {
     "name": "stdout",
     "output_type": "stream",
     "text": [
      "10 11 12 13 14 15 16 17 18 19 "
     ]
    }
   ],
   "source": [
    "for i in range(10,20):\n",
    "    print(i,end=' ')"
   ]
  },
  {
   "cell_type": "code",
   "execution_count": 1,
   "id": "e1f351ac-5df9-4a0b-881d-bc952490bffa",
   "metadata": {},
   "outputs": [
    {
     "name": "stdout",
     "output_type": "stream",
     "text": [
      "the square of 20 is 400\n",
      "the square of 21 is 441\n",
      "the square of 22 is 484\n",
      "the square of 23 is 529\n",
      "the square of 24 is 576\n",
      "the square of 25 is 625\n"
     ]
    }
   ],
   "source": [
    "# wap ask user print squqre of number between 20,25\n",
    "\n",
    "for i in range(20,26):\n",
    "    print(f\"the square of {i} is {i*i}\")"
   ]
  },
  {
   "cell_type": "code",
   "execution_count": 4,
   "id": "f6af5f49-4407-434e-a169-965f442d52b5",
   "metadata": {},
   "outputs": [
    {
     "name": "stdout",
     "output_type": "stream",
     "text": [
      "even number\n",
      "11 is odd\n",
      "even number\n",
      "13 is odd\n",
      "even number\n",
      "15 is odd\n",
      "even number\n",
      "17 is odd\n",
      "even number\n",
      "19 is odd\n"
     ]
    }
   ],
   "source": [
    "for i in range(10,20):\n",
    "     if i%2==0:\n",
    "        print(\"even number\")\n",
    "     else:\n",
    "        print(f\"{i} is odd\")"
   ]
  },
  {
   "cell_type": "markdown",
   "id": "e3c751d7-fd42-4cef-9f21-9959debc67f8",
   "metadata": {},
   "source": [
    "$Pattern-3$"
   ]
  },
  {
   "cell_type": "markdown",
   "id": "556bae91-7a65-4e5c-9017-4bb06f08e09e",
   "metadata": {},
   "source": [
    "**range(start,stop,step)\n",
    "\n",
    "\n",
    "- start= start only\n",
    "- step value \n",
    "    - positive step value\n",
    "        - incerement\n",
    "        - last= stop-1\n",
    "    - negitive\n",
    "    - decrement\n",
    "    - last = stop+1"
   ]
  },
  {
   "cell_type": "code",
   "execution_count": 6,
   "id": "e5bfaac2-cabb-442f-b8d7-46ba62f9530d",
   "metadata": {},
   "outputs": [
    {
     "name": "stdout",
     "output_type": "stream",
     "text": [
      "2 4 6 8 10 12 14 16 18 "
     ]
    }
   ],
   "source": [
    "#case1\n",
    "for i in range(2,20,2):\n",
    "    print(i,end=' ')\n",
    "\n",
    "#stsrt=2\n",
    "#step=+ve 2\n",
    "#last=stop-1=20-1=19\n",
    "#2 4 6 8 10 12 14 16 18"
   ]
  },
  {
   "cell_type": "code",
   "execution_count": 7,
   "id": "946f1eae-7344-4f9e-ba2a-86989757de4b",
   "metadata": {},
   "outputs": [],
   "source": [
    "#case2\n",
    "for i in range(2,20,-2):\n",
    "    print(i,end = ' ')\n",
    "\n",
    "#start=2\n",
    "#step=-2\n",
    "#last= stop+1=21\n",
    "#no error no ans"
   ]
  },
  {
   "cell_type": "code",
   "execution_count": 8,
   "id": "de036029-7c1f-4429-b972-70a7b85ca320",
   "metadata": {},
   "outputs": [
    {
     "name": "stdout",
     "output_type": "stream",
     "text": [
      "20 18 16 14 12 10 8 6 4 "
     ]
    }
   ],
   "source": [
    "#case 3\n",
    "for i in range(20,2,-2):\n",
    "    print(i,end = ' ')\n",
    "\n",
    "#start=20\n",
    "#last=2+1=3"
   ]
  },
  {
   "cell_type": "code",
   "execution_count": 9,
   "id": "f8f41eb2-d3fa-4637-aeaa-47d5da80aac0",
   "metadata": {},
   "outputs": [],
   "source": [
    "#case4\n",
    "for i in range(-20,2,-2):\n",
    "    print(i,end = ' ')\n",
    "\n",
    "#start=-20\n",
    "#"
   ]
  },
  {
   "cell_type": "code",
   "execution_count": 1,
   "id": "fc5bbf3e-cc04-40cf-a493-5a8b801ee62b",
   "metadata": {},
   "outputs": [
    {
     "name": "stdout",
     "output_type": "stream",
     "text": [
      "59 is odd\n"
     ]
    }
   ],
   "source": [
    "# foe ex \n",
    "# take a random number between 1-100 \n",
    "# print it is a even number or odd\n",
    "# you need to grnreate 3 random number\n",
    "\n",
    "import random\n",
    "num=random.randint(1,100)\n",
    "if num%2==0:\n",
    "    print(\"even number\")\n",
    "else:\n",
    "    print(f\"{num} is odd\")"
   ]
  },
  {
   "cell_type": "code",
   "execution_count": 2,
   "id": "4b9e62a0-0896-42f4-9f8a-45810195f052",
   "metadata": {},
   "outputs": [
    {
     "name": "stdin",
     "output_type": "stream",
     "text": [
      "enter the numbet 5\n"
     ]
    },
    {
     "name": "stdout",
     "output_type": "stream",
     "text": [
      "the square of number 5 is 25\n"
     ]
    },
    {
     "name": "stdin",
     "output_type": "stream",
     "text": [
      "enter the numbet 5\n"
     ]
    },
    {
     "name": "stdout",
     "output_type": "stream",
     "text": [
      "the square of number 5 is 25\n"
     ]
    },
    {
     "name": "stdin",
     "output_type": "stream",
     "text": [
      "enter the numbet 6\n"
     ]
    },
    {
     "name": "stdout",
     "output_type": "stream",
     "text": [
      "the square of number 6 is 36\n"
     ]
    }
   ],
   "source": [
    "#wap ask user enter number 3 times find square of number\n",
    "\n",
    "for i in range (3):\n",
    "    num=eval(input(\"enter the numbet\"))\n",
    "    print (f\"the square of number {num} is {num*num}\")"
   ]
  },
  {
   "cell_type": "code",
   "execution_count": 3,
   "id": "5b1dd32d-1aa6-4431-8111-9ec440ca2bfe",
   "metadata": {},
   "outputs": [
    {
     "name": "stdout",
     "output_type": "stream",
     "text": [
      "14 x 1 = 14\n",
      "14 x 2 = 28\n",
      "14 x 3 = 42\n",
      "14 x 4 = 56\n",
      "14 x 5 = 70\n",
      "14 x 6 = 84\n",
      "14 x 7 = 98\n",
      "14 x 8 = 112\n",
      "14 x 9 = 126\n",
      "14 x 10 = 140\n"
     ]
    }
   ],
   "source": [
    "#Q5 print the 14 table\n",
    "number = 14\n",
    "\n",
    "for i in range(1, 11):\n",
    "    product = number * i\n",
    "    print(f\"{number} x {i} = {product}\")"
   ]
  },
  {
   "cell_type": "code",
   "execution_count": 5,
   "id": "26ca781f-d6b4-4d41-92df-741049a36b8d",
   "metadata": {},
   "outputs": [
    {
     "name": "stdin",
     "output_type": "stream",
     "text": [
      "enter the table you want to print 24\n"
     ]
    },
    {
     "name": "stdout",
     "output_type": "stream",
     "text": [
      "24 x 1 = 24\n",
      "24 x 2 = 48\n",
      "24 x 3 = 72\n",
      "24 x 4 = 96\n",
      "24 x 5 = 120\n",
      "24 x 6 = 144\n",
      "24 x 7 = 168\n",
      "24 x 8 = 192\n",
      "24 x 9 = 216\n",
      "24 x 10 = 240\n"
     ]
    }
   ],
   "source": [
    "number =eval(input(\"enter the table you want to print\"))\n",
    "\n",
    "for i in range(1, 11):\n",
    "    product = number * i\n",
    "    print(f\"{number} x {i} = {product}\")"
   ]
  },
  {
   "cell_type": "code",
   "execution_count": 8,
   "id": "c2ed1ff0-2d17-427b-a7b2-d9efc0c34efc",
   "metadata": {},
   "outputs": [
    {
     "name": "stdin",
     "output_type": "stream",
     "text": [
      "which number factor you want 50\n"
     ]
    },
    {
     "name": "stdout",
     "output_type": "stream",
     "text": [
      "The factors of {50} are:\n",
      "1\n",
      "2\n",
      "5\n",
      "10\n",
      "25\n",
      "50\n"
     ]
    }
   ],
   "source": [
    "#Q6 print factors\n",
    "# Python Program to find the factors of a number\n",
    "\n",
    "num=eval(input(\"which number factor you want\"))\n",
    "print(f\"The factors of\",{num},\"are:\")\n",
    "for i in range(1, num + 1):\n",
    "    if num % i == 0:\n",
    "        print(i)"
   ]
  },
  {
   "cell_type": "code",
   "execution_count": null,
   "id": "5dbd00e6-6be0-4d6b-a267-a18839637de1",
   "metadata": {},
   "outputs": [],
   "source": [
    "#Q7 write the sum of first 10 nqtural numbers\n",
    "\n",
    "num = 16\n",
    "\n",
    "if num < 0:\n",
    "   print(\"Enter a positive number\")\n",
    "else:\n",
    "   sum = 0\n",
    "   \n",
    "   while(num > 0):\n",
    "       sum += num\n",
    "       num -= 1\n",
    "   print(\"The sum is\", sum)"
   ]
  },
  {
   "cell_type": "markdown",
   "id": "ef5d9517-a206-49fa-852f-e6c2da598ca1",
   "metadata": {},
   "source": [
    "**sumation wrapper**"
   ]
  },
  {
   "cell_type": "code",
   "execution_count": null,
   "id": "d61d4eba-e18e-4095-ae92-358f27d6000b",
   "metadata": {},
   "outputs": [],
   "source": [
    "- initially we need to keep sum = 0\n",
    "- make sure that you dont provide **sum**\n",
    "- inside for loop summ=sum+i"
   ]
  },
  {
   "cell_type": "code",
   "execution_count": 13,
   "id": "361b6b9a-1b2b-4721-a67c-fbdc893ec449",
   "metadata": {},
   "outputs": [
    {
     "name": "stdout",
     "output_type": "stream",
     "text": [
      "1.0\n",
      "3.0\n",
      "6.0\n",
      "10.0\n",
      "15.0\n",
      "21.0\n",
      "28.0\n",
      "36.0\n",
      "45.0\n",
      "55.0\n"
     ]
    }
   ],
   "source": [
    "summ = 0.\n",
    "for i in range(1, 11):\n",
    "    summ=summ+i\n",
    "    print(summ)"
   ]
  },
  {
   "cell_type": "code",
   "execution_count": 14,
   "id": "4549d6dc-55ec-4b40-9575-69fd4fae8237",
   "metadata": {},
   "outputs": [
    {
     "name": "stdout",
     "output_type": "stream",
     "text": [
      "55.0\n"
     ]
    }
   ],
   "source": [
    "summ = 0.\n",
    "for i in range(1, 11):\n",
    "    summ=summ+i\n",
    "print(summ)"
   ]
  },
  {
   "cell_type": "code",
   "execution_count": 17,
   "id": "1a26d5d3-677b-4dd2-be71-55e031c0a891",
   "metadata": {},
   "outputs": [
    {
     "name": "stdin",
     "output_type": "stream",
     "text": [
      "enter the number 10\n"
     ]
    },
    {
     "name": "stdout",
     "output_type": "stream",
     "text": [
      "5.5\n"
     ]
    }
   ],
   "source": [
    "summ=0\n",
    "N=eval(input(\"enter the number\"))\n",
    "for i in range(1,N+1):\n",
    "       summ=summ+i\n",
    "print(summ/N)"
   ]
  },
  {
   "cell_type": "code",
   "execution_count": null,
   "id": "f1a17ffb-add6-4dd4-b0d9-4c8feb3caebd",
   "metadata": {},
   "outputs": [],
   "source": [
    "Q7 update"
   ]
  },
  {
   "cell_type": "markdown",
   "id": "6b95318e-e5a1-4366-8681-130dc957b20e",
   "metadata": {},
   "source": [
    "**NOTE**\n",
    "- if we print outside for loop last ans will print\n",
    "- never make this mistake"
   ]
  },
  {
   "cell_type": "raw",
   "id": "9e9128cd-3585-4c3d-b0ae-e6f11548eb48",
   "metadata": {},
   "source": [
    "**counter program**\n",
    "- befoer for loop intilase with count=0\n",
    "- under for loop count=count+1\n",
    "- counter always incerase by 1 only"
   ]
  },
  {
   "cell_type": "code",
   "execution_count": 20,
   "id": "66258892-5bc9-45cc-a349-45aa4316a989",
   "metadata": {},
   "outputs": [
    {
     "name": "stdin",
     "output_type": "stream",
     "text": [
      "which number factor you want 50\n"
     ]
    },
    {
     "name": "stdout",
     "output_type": "stream",
     "text": [
      "The factors of {50} are:\n",
      "the diviser of 50 is 6\n"
     ]
    }
   ],
   "source": [
    "#Q9 factor using counter\n",
    "count=0\n",
    "num=eval(input(\"which number factor you want\"))\n",
    "print(f\"The factors of\",{num},\"are:\")\n",
    "for i in range(1, num + 1):\n",
    "    if num % i == 0:\n",
    "        count=count+1\n",
    "print(f\"the diviser of {num} is {count}\")"
   ]
  },
  {
   "cell_type": "code",
   "execution_count": 25,
   "id": "d4a2637d-2330-4538-8d6a-a086cf375937",
   "metadata": {},
   "outputs": [
    {
     "name": "stdin",
     "output_type": "stream",
     "text": [
      "enter a number 2\n"
     ]
    },
    {
     "name": "stdout",
     "output_type": "stream",
     "text": [
      "lost\n"
     ]
    },
    {
     "name": "stdin",
     "output_type": "stream",
     "text": [
      "enter a number 5\n"
     ]
    },
    {
     "name": "stdout",
     "output_type": "stream",
     "text": [
      "lost\n"
     ]
    },
    {
     "name": "stdin",
     "output_type": "stream",
     "text": [
      "enter a number 6\n"
     ]
    },
    {
     "name": "stdout",
     "output_type": "stream",
     "text": [
      "lost\n"
     ]
    }
   ],
   "source": [
    "#Q10 get a randon number between 1,10\n",
    "#ask user num 2\n",
    "#if num2==num1 print won else lost\n",
    "#give 3 chance\n",
    "import random\n",
    "for i in range(3):\n",
    "    num1=random.randint(1,10)\n",
    "    num2=eval(input(\"enter a number\"))\n",
    "\n",
    "    if num1==num2:\n",
    "        print(\"won\")\n",
    "        break\n",
    "    else:\n",
    "        print(\"lost\")"
   ]
  },
  {
   "cell_type": "raw",
   "id": "b8a17dbf-86a6-414c-b5fe-756d14b1c612",
   "metadata": {},
   "source": [
    "display chnbces left if all chance is used than tey again after 24 years\n",
    "\n"
   ]
  },
  {
   "cell_type": "code",
   "execution_count": 1,
   "id": "a49c40ef-b84a-44b6-9781-4953f0aafd7a",
   "metadata": {},
   "outputs": [
    {
     "name": "stdin",
     "output_type": "stream",
     "text": [
      "Enter a number between 1 and 10:  4\n"
     ]
    },
    {
     "name": "stdout",
     "output_type": "stream",
     "text": [
      "Lost! You have 2 chances left.\n"
     ]
    },
    {
     "name": "stdin",
     "output_type": "stream",
     "text": [
      "Enter a number between 1 and 10:  5\n"
     ]
    },
    {
     "name": "stdout",
     "output_type": "stream",
     "text": [
      "Lost! You have 1 chances left.\n"
     ]
    },
    {
     "name": "stdin",
     "output_type": "stream",
     "text": [
      "Enter a number between 1 and 10:  8\n"
     ]
    },
    {
     "name": "stdout",
     "output_type": "stream",
     "text": [
      "Won\n"
     ]
    }
   ],
   "source": [
    "\n",
    "import random\n",
    "num1 = random.randint(1, 10)\n",
    "chances = 3\n",
    "for i in range(chances):\n",
    "    num2 = int(input(\"Enter a number between 1 and 10: \"))\n",
    "    if num1 == num2:\n",
    "        print(\"Won\")\n",
    "        break\n",
    "    else:\n",
    "        chances_left = chances - (i + 1)\n",
    "        if chances_left > 0:\n",
    "            print(f\"Lost! You have {chances_left} chances left.\")\n",
    "        else:\n",
    "            print(\"Lost! You have no chances left. Try again after 24 years.\")\n"
   ]
  },
  {
   "cell_type": "code",
   "execution_count": 1,
   "id": "5daeeba2-682f-41a4-8cc8-2088556b1650",
   "metadata": {},
   "outputs": [
    {
     "name": "stdin",
     "output_type": "stream",
     "text": [
      "Enter number 1:  5\n"
     ]
    },
    {
     "name": "stdout",
     "output_type": "stream",
     "text": [
      "5 is odd\n"
     ]
    },
    {
     "name": "stdin",
     "output_type": "stream",
     "text": [
      "Enter number 2:  6\n"
     ]
    },
    {
     "name": "stdout",
     "output_type": "stream",
     "text": [
      "6 is even\n"
     ]
    },
    {
     "name": "stdin",
     "output_type": "stream",
     "text": [
      "Enter number 3:  8\n"
     ]
    },
    {
     "name": "stdout",
     "output_type": "stream",
     "text": [
      "8 is even\n"
     ]
    },
    {
     "name": "stdin",
     "output_type": "stream",
     "text": [
      "Enter number 4:  7\n"
     ]
    },
    {
     "name": "stdout",
     "output_type": "stream",
     "text": [
      "7 is odd\n"
     ]
    },
    {
     "name": "stdin",
     "output_type": "stream",
     "text": [
      "Enter number 5:  1\n"
     ]
    },
    {
     "name": "stdout",
     "output_type": "stream",
     "text": [
      "1 is odd\n",
      "There are 2 even numbers and 3 odd numbers.\n"
     ]
    }
   ],
   "source": [
    "#wap ask the user get 5 random number get weather it is a even or odd number also count how many even and how many odd number are avalable\n",
    "\n",
    "#take two counter\n",
    "even_count = 0\n",
    "odd_count = 0\n",
    "for i in range(5):\n",
    "    number = int(input(f\"Enter number {i+1}: \"))\n",
    "    if number % 2 == 0:\n",
    "        print(f\"{number} is even\")\n",
    "        even_count += 1\n",
    "    else:\n",
    "        print(f\"{number} is odd\")\n",
    "        odd_count += 1\n",
    "print(f\"There are {even_count} even numbers and {odd_count} odd numbers.\")\n"
   ]
  },
  {
   "cell_type": "code",
   "execution_count": 2,
   "id": "3a7a09db-2fd1-4223-bab4-31d5876a7d95",
   "metadata": {},
   "outputs": [
    {
     "name": "stdout",
     "output_type": "stream",
     "text": [
      "3 is odd\n",
      "2 is even\n",
      "4 is even\n",
      "10 is even\n",
      "3 is odd\n",
      "There are 3 even numbers and 2 odd numbers.\n"
     ]
    }
   ],
   "source": [
    "import random\n",
    "even_count = 0\n",
    "odd_count = 0\n",
    "for i in range(5):\n",
    "    number = random.randint(1,10)\n",
    "    if number % 2 == 0:\n",
    "        print(f\"{number} is even\")\n",
    "        even_count += 1\n",
    "    else:\n",
    "        print(f\"{number} is odd\")\n",
    "        odd_count += 1\n",
    "print(f\"There are {even_count} even numbers and {odd_count} odd numbers.\")\n"
   ]
  },
  {
   "cell_type": "code",
   "execution_count": 3,
   "id": "8b33ff1b-6a60-4675-871e-85cce72854e1",
   "metadata": {},
   "outputs": [
    {
     "name": "stdout",
     "output_type": "stream",
     "text": [
      "10 is even\n",
      "10 is even\n",
      "4 is even\n",
      "8 is even\n",
      "3 is odd\n",
      "There are 4 even numbers and 1 odd numbers.\n",
      "The sum of even numbers is 32.\n",
      "The sum of odd numbers is 3.\n"
     ]
    }
   ],
   "source": [
    "even_count = 0\n",
    "odd_count = 0\n",
    "even_sum = 0\n",
    "odd_sum = 0\n",
    "for i in range(5):\n",
    "    number = random.randint(1,10)\n",
    "    if number % 2 == 0:\n",
    "        print(f\"{number} is even\")\n",
    "        even_count += 1\n",
    "        even_sum += number\n",
    "    else:\n",
    "        print(f\"{number} is odd\")\n",
    "        odd_count += 1\n",
    "        odd_sum += number\n",
    "print(f\"There are {even_count} even numbers and {odd_count} odd numbers.\")\n",
    "print(f\"The sum of even numbers is {even_sum}.\")\n",
    "print(f\"The sum of odd numbers is {odd_sum}.\")\n"
   ]
  },
  {
   "cell_type": "code",
   "execution_count": 6,
   "id": "b6f6a19b-ed16-4a6a-912e-6f639044a641",
   "metadata": {},
   "outputs": [
    {
     "name": "stdout",
     "output_type": "stream",
     "text": [
      "6 is even\n",
      "2 is even\n",
      "7 is odd\n",
      "5 is odd\n",
      "9 is odd\n",
      "There are 2 even numbers and 3 odd numbers.\n",
      "The sum of even numbers is 8.\n",
      "The sum of odd numbers is 21.\n"
     ]
    }
   ],
   "source": [
    "def count_and_sum_even_odd():\n",
    "    even_count = 0\n",
    "    odd_count = 0\n",
    "    even_sum = 0\n",
    "    odd_sum = 0\n",
    "\n",
    "    for i in range(5):\n",
    "        number = random.randint(1, 10)\n",
    "        if number % 2 == 0:\n",
    "            print(f\"{number} is even\")\n",
    "            even_count += 1\n",
    "            even_sum += number\n",
    "        else:\n",
    "            print(f\"{number} is odd\")\n",
    "            odd_count += 1\n",
    "            odd_sum += number\n",
    "\n",
    "    return even_count, odd_count, even_sum, odd_sum\n",
    "even_count, odd_count, even_sum, odd_sum = count_and_sum_even_odd()\n",
    "\n",
    "print(f\"There are {even_count} even numbers and {odd_count} odd numbers.\")\n",
    "print(f\"The sum of even numbers is {even_sum}.\")\n",
    "print(f\"The sum of odd numbers is {odd_sum}.\")\n"
   ]
  },
  {
   "cell_type": "markdown",
   "id": "eb2f73a8-a0cf-4409-a7fc-7008b258530c",
   "metadata": {},
   "source": [
    "**In operator**"
   ]
  },
  {
   "cell_type": "code",
   "execution_count": 9,
   "id": "130ca2b4-32f1-4fc1-b1a7-c342db6fed88",
   "metadata": {},
   "outputs": [
    {
     "data": {
      "text/plain": [
       "True"
      ]
     },
     "execution_count": 9,
     "metadata": {},
     "output_type": "execute_result"
    }
   ],
   "source": [
    "string='python'\n",
    "\"p\" in string\n",
    "\"y\" in string\n",
    "\"t\" in string"
   ]
  },
  {
   "cell_type": "code",
   "execution_count": 10,
   "id": "54f9cc42-bdaf-4e19-8734-ed75b31777f1",
   "metadata": {},
   "outputs": [
    {
     "name": "stdout",
     "output_type": "stream",
     "text": [
      "p\n",
      "y\n",
      "t\n",
      "h\n",
      "o\n",
      "n\n"
     ]
    }
   ],
   "source": [
    "for i in string:\n",
    "    print(i)"
   ]
  },
  {
   "cell_type": "markdown",
   "id": "eba324a4-00c4-490a-9260-38d122316e3a",
   "metadata": {},
   "source": [
    "**difference between in and range operatoe**"
   ]
  },
  {
   "cell_type": "markdown",
   "id": "19a5d580-0b3e-4e48-971c-7beb5a398a39",
   "metadata": {},
   "source": [
    "- range belong to math family\n",
    "- inside range we need to keep number only\n",
    "- when you want to itrate through english letter\n",
    "- we need to chose $in$ operatorm\n"
   ]
  },
  {
   "cell_type": "code",
   "execution_count": 13,
   "id": "0ce9ac0b-a1fe-4e45-ab11-6b362903a1e0",
   "metadata": {},
   "outputs": [
    {
     "data": {
      "text/plain": [
       "True"
      ]
     },
     "execution_count": 13,
     "metadata": {},
     "output_type": "execute_result"
    }
   ],
   "source": [
    "'p'>'P'"
   ]
  },
  {
   "cell_type": "markdown",
   "id": "37d205b5-cd07-4152-9e23-0bcde52611f7",
   "metadata": {},
   "source": [
    "- every enlish letter\n",
    "- every spl character how machine will understand number only\n",
    "- every non numeric assign a number \n",
    "- ASCII:american standard cose for information interchange\n",
    "- A= 65\n",
    "- a=97\n",
    "- "
   ]
  },
  {
   "cell_type": "markdown",
   "id": "2872f2d5-afbc-42e4-958d-6e2dcfbbd66c",
   "metadata": {},
   "source": [
    "**ord-chr**"
   ]
  },
  {
   "cell_type": "code",
   "execution_count": null,
   "id": "0f66e892-66d3-4fbb-bee1-4d34c275c75a",
   "metadata": {},
   "outputs": [],
   "source": [
    "A==== 65 ====== 0b1000001"
   ]
  },
  {
   "cell_type": "code",
   "execution_count": 14,
   "id": "62ba7b6a-3371-4e32-8f4a-8d4dbd5dde0a",
   "metadata": {},
   "outputs": [
    {
     "data": {
      "text/plain": [
       "65"
      ]
     },
     "execution_count": 14,
     "metadata": {},
     "output_type": "execute_result"
    }
   ],
   "source": [
    "0b1000001"
   ]
  },
  {
   "cell_type": "code",
   "execution_count": 16,
   "id": "4861ab99-f714-4219-a358-ef3683106277",
   "metadata": {},
   "outputs": [
    {
     "data": {
      "text/plain": [
       "(65, 97)"
      ]
     },
     "execution_count": 16,
     "metadata": {},
     "output_type": "execute_result"
    }
   ],
   "source": [
    "ord('A'),ord(\"a\")"
   ]
  },
  {
   "cell_type": "code",
   "execution_count": 18,
   "id": "474be28b-a867-4e2e-91fc-84db14e79329",
   "metadata": {},
   "outputs": [
    {
     "data": {
      "text/plain": [
       "(80, 112)"
      ]
     },
     "execution_count": 18,
     "metadata": {},
     "output_type": "execute_result"
    }
   ],
   "source": [
    "ord(\"P\"),ord(\"p\")"
   ]
  },
  {
   "cell_type": "code",
   "execution_count": 19,
   "id": "f8d9be06-f94c-41d4-8c4a-bb1093694681",
   "metadata": {},
   "outputs": [
    {
     "data": {
      "text/plain": [
       "True"
      ]
     },
     "execution_count": 19,
     "metadata": {},
     "output_type": "execute_result"
    }
   ],
   "source": [
    "'p'>'P'  #112>80"
   ]
  },
  {
   "cell_type": "code",
   "execution_count": 20,
   "id": "e08dd0dd-4bc0-4d02-91a7-7d4b6c43a44b",
   "metadata": {},
   "outputs": [
    {
     "data": {
      "text/plain": [
       "'p'"
      ]
     },
     "execution_count": 20,
     "metadata": {},
     "output_type": "execute_result"
    }
   ],
   "source": [
    "chr(112)"
   ]
  },
  {
   "cell_type": "code",
   "execution_count": 21,
   "id": "6cc19a63-2458-414d-8f44-70d483352193",
   "metadata": {},
   "outputs": [
    {
     "data": {
      "text/plain": [
       "'ᦥ'"
      ]
     },
     "execution_count": 21,
     "metadata": {},
     "output_type": "execute_result"
    }
   ],
   "source": [
    "chr(6565)"
   ]
  },
  {
   "cell_type": "code",
   "execution_count": 23,
   "id": "e41d76d9-dec3-43f3-9c0a-e69d9dc29e1e",
   "metadata": {},
   "outputs": [
    {
     "data": {
      "text/plain": [
       "'c'"
      ]
     },
     "execution_count": 23,
     "metadata": {},
     "output_type": "execute_result"
    }
   ],
   "source": [
    "chr(99)"
   ]
  },
  {
   "cell_type": "code",
   "execution_count": 25,
   "id": "f1f53a4f-d1b1-4055-ba1a-1c6a15735e64",
   "metadata": {},
   "outputs": [
    {
     "name": "stdout",
     "output_type": "stream",
     "text": [
      "p 112\n",
      "y 121\n",
      "t 116\n",
      "h 104\n",
      "o 111\n",
      "n 110\n"
     ]
    }
   ],
   "source": [
    "# I want string python \n",
    "# print all ascii fpor python\n",
    "for i in 'python':\n",
    "    print(i,ord(i))\n",
    "    "
   ]
  },
  {
   "cell_type": "code",
   "execution_count": 26,
   "id": "22514116-4c01-49e2-ae26-2677d6642e24",
   "metadata": {},
   "outputs": [
    {
     "name": "stdout",
     "output_type": "stream",
     "text": [
      "The sum of ASCII values in the string 'Hello, World!' is 1129.\n"
     ]
    }
   ],
   "source": [
    "def sum_of_ascii(string):\n",
    "    total = 0\n",
    "    for char in string:\n",
    "        total += ord(char)\n",
    "    return total\n",
    "string = \"Hello, World!\"\n",
    "ascii_sum = sum_of_ascii(string)\n",
    "print(f\"The sum of ASCII values in the string '{string}' is {ascii_sum}.\")\n"
   ]
  },
  {
   "cell_type": "code",
   "execution_count": 27,
   "id": "7c453a4e-59fe-41ed-b57f-0d2891b2d196",
   "metadata": {},
   "outputs": [
    {
     "name": "stdout",
     "output_type": "stream",
     "text": [
      "The sumation 674\n"
     ]
    }
   ],
   "source": [
    "ascii_sum=0\n",
    "for i in 'python':\n",
    "    ascii_sum=ascii_sum+ord(i)\n",
    "print(f\"The sumation {ascii_sum}\")"
   ]
  },
  {
   "cell_type": "code",
   "execution_count": 28,
   "id": "bf84db34-4f50-4f75-990d-60aadeaec926",
   "metadata": {},
   "outputs": [
    {
     "name": "stdout",
     "output_type": "stream",
     "text": [
      "ASCII value of 'a' is 97\n",
      "ASCII value of 'b' is 98\n",
      "ASCII value of 'c' is 99\n",
      "ASCII value of 'd' is 100\n",
      "ASCII value of 'e' is 101\n",
      "ASCII value of 'f' is 102\n",
      "ASCII value of 'g' is 103\n",
      "ASCII value of 'h' is 104\n",
      "ASCII value of 'i' is 105\n",
      "ASCII value of 'j' is 106\n",
      "ASCII value of 'k' is 107\n",
      "ASCII value of 'l' is 108\n",
      "ASCII value of 'm' is 109\n",
      "ASCII value of 'n' is 110\n",
      "ASCII value of 'o' is 111\n",
      "ASCII value of 'p' is 112\n",
      "ASCII value of 'q' is 113\n",
      "ASCII value of 'r' is 114\n",
      "ASCII value of 's' is 115\n",
      "ASCII value of 't' is 116\n",
      "ASCII value of 'u' is 117\n",
      "ASCII value of 'v' is 118\n",
      "ASCII value of 'w' is 119\n",
      "ASCII value of 'x' is 120\n",
      "ASCII value of 'y' is 121\n",
      "ASCII value of 'z' is 122\n"
     ]
    }
   ],
   "source": [
    "#ascii from a to z\n",
    "def print_ascii_a_to_z():\n",
    "    for char in range(ord('a'), ord('z') + 1):\n",
    "        print(f\"ASCII value of '{chr(char)}' is {char}\")\n",
    "print_ascii_a_to_z()\n"
   ]
  },
  {
   "cell_type": "code",
   "execution_count": 31,
   "id": "b70936a3-d559-4bf3-bbec-1bf5448f3dd2",
   "metadata": {},
   "outputs": [
    {
     "data": {
      "text/plain": [
       "['Formatter',\n",
       " 'Template',\n",
       " '_ChainMap',\n",
       " '__all__',\n",
       " '__builtins__',\n",
       " '__cached__',\n",
       " '__doc__',\n",
       " '__file__',\n",
       " '__loader__',\n",
       " '__name__',\n",
       " '__package__',\n",
       " '__spec__',\n",
       " '_re',\n",
       " '_sentinel_dict',\n",
       " '_string',\n",
       " 'ascii_letters',\n",
       " 'ascii_lowercase',\n",
       " 'ascii_uppercase',\n",
       " 'capwords',\n",
       " 'digits',\n",
       " 'hexdigits',\n",
       " 'octdigits',\n",
       " 'printable',\n",
       " 'punctuation',\n",
       " 'whitespace']"
      ]
     },
     "execution_count": 31,
     "metadata": {},
     "output_type": "execute_result"
    }
   ],
   "source": [
    "#there a package caller string inpoort the package app;y method\n",
    "import string\n",
    "dir(string"
   ]
  },
  {
   "cell_type": "code",
   "execution_count": 32,
   "id": "48dd0966-3cd8-42df-ab3f-344bac49bb5f",
   "metadata": {},
   "outputs": [
    {
     "name": "stdout",
     "output_type": "stream",
     "text": [
      "ASCII value of 'a' is 97\n",
      "ASCII value of 'b' is 98\n",
      "ASCII value of 'c' is 99\n",
      "ASCII value of 'd' is 100\n",
      "ASCII value of 'e' is 101\n",
      "ASCII value of 'f' is 102\n",
      "ASCII value of 'g' is 103\n",
      "ASCII value of 'h' is 104\n",
      "ASCII value of 'i' is 105\n",
      "ASCII value of 'j' is 106\n",
      "ASCII value of 'k' is 107\n",
      "ASCII value of 'l' is 108\n",
      "ASCII value of 'm' is 109\n",
      "ASCII value of 'n' is 110\n",
      "ASCII value of 'o' is 111\n",
      "ASCII value of 'p' is 112\n",
      "ASCII value of 'q' is 113\n",
      "ASCII value of 'r' is 114\n",
      "ASCII value of 's' is 115\n",
      "ASCII value of 't' is 116\n",
      "ASCII value of 'u' is 117\n",
      "ASCII value of 'v' is 118\n",
      "ASCII value of 'w' is 119\n",
      "ASCII value of 'x' is 120\n",
      "ASCII value of 'y' is 121\n",
      "ASCII value of 'z' is 122\n"
     ]
    }
   ],
   "source": [
    "import string\n",
    "for char in string.ascii_lowercase:\n",
    "    print(f\"ASCII value of '{char}' is {ord(char)}\")"
   ]
  },
  {
   "cell_type": "code",
   "execution_count": 33,
   "id": "001a3b4f-4d12-45fc-93ad-d410de46c5d5",
   "metadata": {},
   "outputs": [
    {
     "name": "stdout",
     "output_type": "stream",
     "text": [
      "ASCII value of 'A' is 65\n",
      "ASCII value of 'B' is 66\n",
      "ASCII value of 'C' is 67\n",
      "ASCII value of 'D' is 68\n",
      "ASCII value of 'E' is 69\n",
      "ASCII value of 'F' is 70\n",
      "ASCII value of 'G' is 71\n",
      "ASCII value of 'H' is 72\n",
      "ASCII value of 'I' is 73\n",
      "ASCII value of 'J' is 74\n",
      "ASCII value of 'K' is 75\n",
      "ASCII value of 'L' is 76\n",
      "ASCII value of 'M' is 77\n",
      "ASCII value of 'N' is 78\n",
      "ASCII value of 'O' is 79\n",
      "ASCII value of 'P' is 80\n",
      "ASCII value of 'Q' is 81\n",
      "ASCII value of 'R' is 82\n",
      "ASCII value of 'S' is 83\n",
      "ASCII value of 'T' is 84\n",
      "ASCII value of 'U' is 85\n",
      "ASCII value of 'V' is 86\n",
      "ASCII value of 'W' is 87\n",
      "ASCII value of 'X' is 88\n",
      "ASCII value of 'Y' is 89\n",
      "ASCII value of 'Z' is 90\n"
     ]
    }
   ],
   "source": [
    "import string\n",
    "for char in string.ascii_uppercase:\n",
    "    print(f\"ASCII value of '{char}' is {ord(char)}\")"
   ]
  },
  {
   "cell_type": "code",
   "execution_count": 36,
   "id": "ef67e3f1-5290-4bf9-a150-b2b28a9ebd77",
   "metadata": {},
   "outputs": [
    {
     "name": "stdout",
     "output_type": "stream",
     "text": [
      "ASCII value of '!' is 33\n",
      "ASCII value of '\"' is 34\n",
      "ASCII value of '#' is 35\n",
      "ASCII value of '$' is 36\n",
      "ASCII value of '%' is 37\n",
      "ASCII value of '&' is 38\n",
      "ASCII value of ''' is 39\n",
      "ASCII value of '(' is 40\n",
      "ASCII value of ')' is 41\n",
      "ASCII value of '*' is 42\n",
      "ASCII value of '+' is 43\n",
      "ASCII value of ',' is 44\n",
      "ASCII value of '-' is 45\n",
      "ASCII value of '.' is 46\n",
      "ASCII value of '/' is 47\n",
      "ASCII value of ':' is 58\n",
      "ASCII value of ';' is 59\n",
      "ASCII value of '<' is 60\n",
      "ASCII value of '=' is 61\n",
      "ASCII value of '>' is 62\n",
      "ASCII value of '?' is 63\n",
      "ASCII value of '@' is 64\n",
      "ASCII value of '[' is 91\n",
      "ASCII value of '\\' is 92\n",
      "ASCII value of ']' is 93\n",
      "ASCII value of '^' is 94\n",
      "ASCII value of '_' is 95\n",
      "ASCII value of '`' is 96\n",
      "ASCII value of '{' is 123\n",
      "ASCII value of '|' is 124\n",
      "ASCII value of '}' is 125\n",
      "ASCII value of '~' is 126\n"
     ]
    }
   ],
   "source": [
    "for i in string.punctuation:\n",
    "    print(f\"ASCII value of '{i}' is {ord(i)}\")"
   ]
  },
  {
   "cell_type": "code",
   "execution_count": 37,
   "id": "50984355-2655-43c9-8678-7ce48dcd8db9",
   "metadata": {},
   "outputs": [
    {
     "name": "stdout",
     "output_type": "stream",
     "text": [
      "ASCII value of 'a' is 97\n",
      "ASCII value of 'b' is 98\n",
      "ASCII value of 'c' is 99\n",
      "ASCII value of 'd' is 100\n",
      "ASCII value of 'e' is 101\n",
      "ASCII value of 'f' is 102\n",
      "ASCII value of 'g' is 103\n",
      "ASCII value of 'h' is 104\n",
      "ASCII value of 'i' is 105\n",
      "ASCII value of 'j' is 106\n",
      "ASCII value of 'k' is 107\n",
      "ASCII value of 'l' is 108\n",
      "ASCII value of 'm' is 109\n",
      "ASCII value of 'n' is 110\n",
      "ASCII value of 'o' is 111\n",
      "ASCII value of 'p' is 112\n",
      "ASCII value of 'q' is 113\n",
      "ASCII value of 'r' is 114\n",
      "ASCII value of 's' is 115\n",
      "ASCII value of 't' is 116\n",
      "ASCII value of 'u' is 117\n",
      "ASCII value of 'v' is 118\n",
      "ASCII value of 'w' is 119\n",
      "ASCII value of 'x' is 120\n",
      "ASCII value of 'y' is 121\n",
      "ASCII value of 'z' is 122\n",
      "ASCII value of 'A' is 65\n",
      "ASCII value of 'B' is 66\n",
      "ASCII value of 'C' is 67\n",
      "ASCII value of 'D' is 68\n",
      "ASCII value of 'E' is 69\n",
      "ASCII value of 'F' is 70\n",
      "ASCII value of 'G' is 71\n",
      "ASCII value of 'H' is 72\n",
      "ASCII value of 'I' is 73\n",
      "ASCII value of 'J' is 74\n",
      "ASCII value of 'K' is 75\n",
      "ASCII value of 'L' is 76\n",
      "ASCII value of 'M' is 77\n",
      "ASCII value of 'N' is 78\n",
      "ASCII value of 'O' is 79\n",
      "ASCII value of 'P' is 80\n",
      "ASCII value of 'Q' is 81\n",
      "ASCII value of 'R' is 82\n",
      "ASCII value of 'S' is 83\n",
      "ASCII value of 'T' is 84\n",
      "ASCII value of 'U' is 85\n",
      "ASCII value of 'V' is 86\n",
      "ASCII value of 'W' is 87\n",
      "ASCII value of 'X' is 88\n",
      "ASCII value of 'Y' is 89\n",
      "ASCII value of 'Z' is 90\n"
     ]
    }
   ],
   "source": [
    "for i in string.ascii_letters:\n",
    "    print(f\"ASCII value of '{i}' is {ord(i)}\")"
   ]
  },
  {
   "cell_type": "code",
   "execution_count": 39,
   "id": "760152a7-1ec1-40b9-86e7-90e5bbf1dada",
   "metadata": {},
   "outputs": [
    {
     "ename": "SyntaxError",
     "evalue": "invalid syntax (1215628860.py, line 2)",
     "output_type": "error",
     "traceback": [
      "\u001b[1;36m  Cell \u001b[1;32mIn[39], line 2\u001b[1;36m\u001b[0m\n\u001b[1;33m    print(i,chr(i),end\"==>\")\u001b[0m\n\u001b[1;37m                      ^\u001b[0m\n\u001b[1;31mSyntaxError\u001b[0m\u001b[1;31m:\u001b[0m invalid syntax\n"
     ]
    }
   ],
   "source": [
    "for i in  range(33,126):\n",
    "    print(i,chr(i),end\"==>\")"
   ]
  },
  {
   "cell_type": "code",
   "execution_count": null,
   "id": "9a4e4088-66a1-4946-a6ba-59bc343cfa6d",
   "metadata": {},
   "outputs": [],
   "source": []
  }
 ],
 "metadata": {
  "kernelspec": {
   "display_name": "Python 3 (ipykernel)",
   "language": "python",
   "name": "python3"
  },
  "language_info": {
   "codemirror_mode": {
    "name": "ipython",
    "version": 3
   },
   "file_extension": ".py",
   "mimetype": "text/x-python",
   "name": "python",
   "nbconvert_exporter": "python",
   "pygments_lexer": "ipython3",
   "version": "3.11.7"
  }
 },
 "nbformat": 4,
 "nbformat_minor": 5
}
