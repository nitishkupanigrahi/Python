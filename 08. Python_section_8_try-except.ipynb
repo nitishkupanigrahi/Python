{
 "cells": [
  {
   "cell_type": "markdown",
   "id": "892ec71e-2579-488f-87c2-17b14c839e44",
   "metadata": {},
   "source": [
    "**try-except**"
   ]
  },
  {
   "cell_type": "markdown",
   "id": "f589852c-083b-4572-a559-0b460e31355b",
   "metadata": {},
   "source": [
    "- generally we cod en number of python code\n",
    "- in a situation we can get erroe\n",
    "- that erroe can be unknwn\n",
    "- this un known error doesnot cause ant harm\n",
    "- even though we are getting error we needto process further\n",
    "- we also need to catch rhat process\n",
    "- because we know python is sequential process\n",
    "- than the run will stop\n",
    "- if you knoe that error id=s not harmful than we require \n",
    "- try & except\n"
   ]
  },
  {
   "cell_type": "raw",
   "id": "245d0302-e90a-4467-bd67-eeba8bcb0a2d",
   "metadata": {},
   "source": [
    "try except has 2 block \n",
    "try has actual code\n",
    "except block will catch the error"
   ]
  },
  {
   "cell_type": "code",
   "execution_count": 1,
   "id": "ca626a87-73c0-49f7-848f-5789d3a53c5f",
   "metadata": {},
   "outputs": [
    {
     "name": "stdin",
     "output_type": "stream",
     "text": [
      "enter the number1 2\n",
      "enter the number2 2\n"
     ]
    },
    {
     "name": "stdout",
     "output_type": "stream",
     "text": [
      "4\n"
     ]
    }
   ],
   "source": [
    "n1=eval(input(\"enter the number1\"))\n",
    "n2=eval(input(\"enter the number2\"))\n",
    "add=n1+n2\n",
    "print(add)"
   ]
  },
  {
   "cell_type": "code",
   "execution_count": 3,
   "id": "c7c9beba-a2ae-4f61-a6c4-b3729889697f",
   "metadata": {},
   "outputs": [
    {
     "name": "stdin",
     "output_type": "stream",
     "text": [
      "enter the number1 12\n",
      "enter the number2 jyh\n"
     ]
    },
    {
     "name": "stdout",
     "output_type": "stream",
     "text": [
      "hgdhgdjh\n"
     ]
    }
   ],
   "source": [
    "try:\n",
    "    n1=eval(input(\"enter the number1\"))\n",
    "    n2=eval(input(\"enter the number2\"))\n",
    "    add=n1+n2\n",
    "    print(add)\n",
    "except:\n",
    "    print(\"hgdhgdjh\")\n"
   ]
  },
  {
   "cell_type": "raw",
   "id": "0fce2a72-da98-4adb-bed2-d4e0962cdfe4",
   "metadata": {},
   "source": [
    "generally we use try and except to find erroe"
   ]
  },
  {
   "cell_type": "code",
   "execution_count": 4,
   "id": "c3f3b86f-ebf1-47ad-aced-477d173f2ff1",
   "metadata": {},
   "outputs": [
    {
     "name": "stdin",
     "output_type": "stream",
     "text": [
      "enter the number1 10\n",
      "enter the number2 er\n"
     ]
    },
    {
     "name": "stdout",
     "output_type": "stream",
     "text": [
      "the errorname 'er' is not defined\n"
     ]
    }
   ],
   "source": [
    "try:\n",
    "    n1=eval(input(\"enter the number1\"))\n",
    "    n2=eval(input(\"enter the number2\"))\n",
    "    add=n1+n2\n",
    "    print(add)\n",
    "except Exception as e:\n",
    "    print(f\"the error{e}\")\n"
   ]
  },
  {
   "cell_type": "code",
   "execution_count": null,
   "id": "66372306-af85-4690-a46d-39cf9695e5bf",
   "metadata": {},
   "outputs": [],
   "source": []
  }
 ],
 "metadata": {
  "kernelspec": {
   "display_name": "Python 3 (ipykernel)",
   "language": "python",
   "name": "python3"
  },
  "language_info": {
   "codemirror_mode": {
    "name": "ipython",
    "version": 3
   },
   "file_extension": ".py",
   "mimetype": "text/x-python",
   "name": "python",
   "nbconvert_exporter": "python",
   "pygments_lexer": "ipython3",
   "version": "3.11.7"
  }
 },
 "nbformat": 4,
 "nbformat_minor": 5
}
