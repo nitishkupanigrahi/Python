{
 "cells": [
  {
   "cell_type": "markdown",
   "id": "08f79343-d93d-42ef-adcf-50e88b628282",
   "metadata": {},
   "source": [
    "**conditional statement**"
   ]
  },
  {
   "cell_type": "markdown",
   "id": "77b6b68b-6553-41a3-81a8-b3393fb6424e",
   "metadata": {},
   "source": [
    "- conditional statement mean we want to run code line based on conditon\n",
    "- if rain come i will not go to school other wise we will watch movie\n",
    "- rain is there it will effect one process\n",
    "- rail is not there will affect anothermm\n"
   ]
  },
  {
   "cell_type": "markdown",
   "id": "d6c53c5b-abd0-4c58-8a1a-7ded300de7a0",
   "metadata": {},
   "source": [
    "- if\n",
    "- elif\n",
    "- elce\n",
    "    "
   ]
  },
  {
   "cell_type": "markdown",
   "id": "14ee8673-0502-40b2-98d4-7544d8adb2ce",
   "metadata": {},
   "source": [
    "**if**"
   ]
  },
  {
   "cell_type": "code",
   "execution_count": null,
   "id": "a8d38d62-f806-4f26-b395-a51a9f684d4b",
   "metadata": {},
   "outputs": [],
   "source": [
    "#sintax\n",
    "if <condition>:\n",
    "    <codeline1>\n",
    "    <codeline2>"
   ]
  },
  {
   "cell_type": "markdown",
   "id": "2bc83820-e439-4813-8c65-359f44976099",
   "metadata": {},
   "source": [
    "- whenever any line start with keyword(green) at the end of the line we have a colon(:)\n",
    "- whenever we have colon(::) the next line starts with some gap\n",
    "- and this gap is called as **indentatation**\n",
    "- how many lines we are maintaning gap (indentation) that all are under one area\n"
   ]
  },
  {
   "cell_type": "markdown",
   "id": "dfdaa07c-5071-450b-b454-def0c537e6df",
   "metadata": {},
   "source": [
    "- if is a conditional statement, it will check the condition is true or false\n",
    "- if that condition will true then only it eill enter inside the if area\n",
    "- and ececute the lines\n",
    "- code lines will not weok\n",
    "    "
   ]
  },
  {
   "cell_type": "code",
   "execution_count": 1,
   "id": "e1ef45a9-2e45-4368-8a44-ab48c514ff6d",
   "metadata": {},
   "outputs": [
    {
     "data": {
      "text/plain": [
       "True"
      ]
     },
     "execution_count": 1,
     "metadata": {},
     "output_type": "execute_result"
    }
   ],
   "source": [
    "1000>100"
   ]
  },
  {
   "cell_type": "code",
   "execution_count": 4,
   "id": "4fbec06e-9b89-46c4-8498-0fc253662cc4",
   "metadata": {},
   "outputs": [
    {
     "name": "stdout",
     "output_type": "stream",
     "text": [
      "helo\n"
     ]
    }
   ],
   "source": [
    "if 100>10:        #if true\n",
    "    print(\"helo\")"
   ]
  },
  {
   "cell_type": "code",
   "execution_count": 9,
   "id": "8ddc2b5b-3620-4881-a9c1-27e08c20b495",
   "metadata": {},
   "outputs": [
    {
     "name": "stdout",
     "output_type": "stream",
     "text": [
      "helo\n"
     ]
    }
   ],
   "source": [
    "if 100>10:        #if true\n",
    "    print(\"helo\")   # it require 4 spaces indentation"
   ]
  },
  {
   "cell_type": "code",
   "execution_count": null,
   "id": "e03c7dfa-1b90-4fd2-a4c2-f5f07f74a270",
   "metadata": {},
   "outputs": [],
   "source": [
    "if 100>10:        #if true\n",
    "    name= print(\"helo\")       #mistake"
   ]
  },
  {
   "cell_type": "markdown",
   "id": "90162cb9-e342-4cc9-8af5-22ca11fe77ba",
   "metadata": {},
   "source": [
    "**mistake**\n",
    "- forgeting the colon(:)  #sintax error\n",
    "- removing the indentation space #indentation erroe\n",
    "- forgeting a condition #sintax error\n",
    "- missing brackets in print statements\n",
    "- never assign variable to print statement\n",
    "- all type of syntax error\n",
    "- spell mistake\n"
   ]
  },
  {
   "cell_type": "code",
   "execution_count": 12,
   "id": "847d708c-9258-476d-840c-d9d69076119f",
   "metadata": {},
   "outputs": [
    {
     "name": "stdout",
     "output_type": "stream",
     "text": [
      "helo\n",
      "good moring\n",
      "okay\n",
      "bye\n"
     ]
    }
   ],
   "source": [
    "if 100>10:\n",
    "    print(\"helo\")\n",
    "    print(\"good moring\")\n",
    "print(\"okay\")\n",
    "print(\"bye\")\n",
    "\n",
    "#if 100>10 if true\n",
    "# print helo\n",
    "# good moring \n",
    "# okay\n",
    "# bye\n"
   ]
  },
  {
   "cell_type": "code",
   "execution_count": 16,
   "id": "f5967487-094c-4dc5-9f44-0e5009bb8187",
   "metadata": {},
   "outputs": [
    {
     "name": "stdout",
     "output_type": "stream",
     "text": [
      "10\n",
      "10\n"
     ]
    },
    {
     "ename": "NameError",
     "evalue": "name 'a' is not defined",
     "output_type": "error",
     "traceback": [
      "\u001b[1;31m---------------------------------------------------------------------------\u001b[0m",
      "\u001b[1;31mNameError\u001b[0m                                 Traceback (most recent call last)",
      "Cell \u001b[1;32mIn[16], line 3\u001b[0m\n\u001b[0;32m      1\u001b[0m \u001b[38;5;28mprint\u001b[39m(\u001b[38;5;241m10\u001b[39m)\n\u001b[0;32m      2\u001b[0m \u001b[38;5;28mprint\u001b[39m(\u001b[38;5;241m10\u001b[39m)\n\u001b[1;32m----> 3\u001b[0m \u001b[38;5;28;01mif\u001b[39;00m \u001b[38;5;241m1\u001b[39m\u001b[38;5;241m+\u001b[39ma:\n\u001b[0;32m      4\u001b[0m     \u001b[38;5;28mprint\u001b[39m(\u001b[38;5;124m\"\u001b[39m\u001b[38;5;124mhelo\u001b[39m\u001b[38;5;124m\"\u001b[39m)\n\u001b[0;32m      5\u001b[0m     \u001b[38;5;28mprint\u001b[39m(\u001b[38;5;124m\"\u001b[39m\u001b[38;5;124mgood moring\u001b[39m\u001b[38;5;124m\"\u001b[39m)\n",
      "\u001b[1;31mNameError\u001b[0m: name 'a' is not defined"
     ]
    }
   ],
   "source": [
    "print(10)\n",
    "print(10)\n",
    "if 1+a:\n",
    "    print(\"helo\")\n",
    "    print(\"good moring\")\n",
    "print(\"okay\")\n",
    "print(\"bye\")\n"
   ]
  },
  {
   "cell_type": "markdown",
   "id": "6ced4b1d-eeaf-4fc2-9b68-41db75810250",
   "metadata": {},
   "source": [
    "\n",
    "**if-else**"
   ]
  },
  {
   "cell_type": "markdown",
   "id": "e8161dac-a076-4a0e-822c-100a795123de",
   "metadata": {},
   "source": [
    "- if require condition\n",
    "- if that condition true than it will execute if block\n",
    "- otherwise it can go to else block\n",
    "- so elce block dosont require condtion\n"
   ]
  },
  {
   "cell_type": "code",
   "execution_count": 17,
   "id": "9fe918b5-dba8-46f7-a653-2a02c1657aec",
   "metadata": {},
   "outputs": [
    {
     "ename": "SyntaxError",
     "evalue": "invalid syntax (1362660342.py, line 1)",
     "output_type": "error",
     "traceback": [
      "\u001b[1;36m  Cell \u001b[1;32mIn[17], line 1\u001b[1;36m\u001b[0m\n\u001b[1;33m    if<condition>:\u001b[0m\n\u001b[1;37m      ^\u001b[0m\n\u001b[1;31mSyntaxError\u001b[0m\u001b[1;31m:\u001b[0m invalid syntax\n"
     ]
    }
   ],
   "source": [
    "if<condition>:\n",
    "    <code line>\n",
    "else:\n",
    "    <code line>\n",
    "        "
   ]
  },
  {
   "cell_type": "code",
   "execution_count": 18,
   "id": "d0325b92-6515-4586-a3e1-92eff0af24c5",
   "metadata": {},
   "outputs": [
    {
     "name": "stdout",
     "output_type": "stream",
     "text": [
      "The number is greater than 5.\n"
     ]
    }
   ],
   "source": [
    "if 100>5:\n",
    "    print(\"The number is greater than 5.\")\n",
    "else:\n",
    "    print(\"The number is 5 or less.\")\n"
   ]
  },
  {
   "cell_type": "code",
   "execution_count": 23,
   "id": "61eb38c8-c29b-4ae1-85fb-ee08027838b4",
   "metadata": {},
   "outputs": [
    {
     "name": "stdout",
     "output_type": "stream",
     "text": [
      "10\n",
      "20\n",
      "30\n",
      "2.0\n",
      "0.5\n"
     ]
    }
   ],
   "source": [
    "if True:\n",
    "    a=10\n",
    "    b=20\n",
    "    print(a)\n",
    "    print(b)\n",
    "    c=a+b\n",
    "    print(c)\n",
    "    d=b/a\n",
    "    print(d)\n",
    "    e=a/b\n",
    "    print(e)"
   ]
  },
  {
   "cell_type": "code",
   "execution_count": 24,
   "id": "60a6223d-cd2b-43c2-bc30-4fb051984e60",
   "metadata": {},
   "outputs": [
    {
     "data": {
      "text/plain": [
       "1.25"
      ]
     },
     "execution_count": 24,
     "metadata": {},
     "output_type": "execute_result"
    }
   ],
   "source": [
    "5/4\n"
   ]
  },
  {
   "cell_type": "code",
   "execution_count": 25,
   "id": "1aa22c39-8ee2-4ddd-a622-ea75512833d7",
   "metadata": {},
   "outputs": [
    {
     "data": {
      "text/plain": [
       "1"
      ]
     },
     "execution_count": 25,
     "metadata": {},
     "output_type": "execute_result"
    }
   ],
   "source": [
    "5//4  #floor division"
   ]
  },
  {
   "cell_type": "code",
   "execution_count": 26,
   "id": "12cd3b3d-6b0c-4bd0-b73d-4ab021507d4f",
   "metadata": {},
   "outputs": [
    {
     "data": {
      "text/plain": [
       "1"
      ]
     },
     "execution_count": 26,
     "metadata": {},
     "output_type": "execute_result"
    }
   ],
   "source": [
    "5%4  #remainder"
   ]
  },
  {
   "cell_type": "code",
   "execution_count": 27,
   "id": "e96c11f2-217e-432d-9c3a-b4651520e70f",
   "metadata": {},
   "outputs": [
    {
     "data": {
      "text/plain": [
       "4"
      ]
     },
     "execution_count": 27,
     "metadata": {},
     "output_type": "execute_result"
    }
   ],
   "source": [
    "19//4\n"
   ]
  },
  {
   "cell_type": "code",
   "execution_count": 28,
   "id": "d4745991-2ad2-4497-9a12-66137f788c5c",
   "metadata": {},
   "outputs": [
    {
     "data": {
      "text/plain": [
       "3"
      ]
     },
     "execution_count": 28,
     "metadata": {},
     "output_type": "execute_result"
    }
   ],
   "source": [
    "19%4"
   ]
  },
  {
   "cell_type": "code",
   "execution_count": 4,
   "id": "59adb473-fba0-40b0-b9d0-063ad0cac3f4",
   "metadata": {},
   "outputs": [
    {
     "name": "stdin",
     "output_type": "stream",
     "text": [
      "enter a number 15\n"
     ]
    },
    {
     "name": "stdout",
     "output_type": "stream",
     "text": [
      "odd numbe\n"
     ]
    }
   ],
   "source": [
    "# wap ask tge user enter a number find even or odd\n",
    "num=eval(input(\"enter a number\"))\n",
    "if (num%2==0):\n",
    "    print (\"it is even number\")\n",
    "else:\n",
    "    print(\"odd numbe\")"
   ]
  },
  {
   "cell_type": "code",
   "execution_count": 6,
   "id": "cd6f60b5-8349-4f88-9f89-2d6c5886b41f",
   "metadata": {},
   "outputs": [
    {
     "name": "stdout",
     "output_type": "stream",
     "text": [
      "it is even number\n"
     ]
    }
   ],
   "source": [
    "import random\n",
    "num=random.randint(0,1000)\n",
    "if (num%2==0):\n",
    "    print (\"it is even number\")\n",
    "else:\n",
    "    print(\"odd numbe\")"
   ]
  },
  {
   "cell_type": "code",
   "execution_count": 7,
   "id": "8217b970-3836-4488-9f3d-a3c57c9fc3d1",
   "metadata": {},
   "outputs": [
    {
     "name": "stdin",
     "output_type": "stream",
     "text": [
      "enter the start value 50\n",
      "enter the end value 60\n"
     ]
    },
    {
     "name": "stdout",
     "output_type": "stream",
     "text": [
      "odd numbe\n"
     ]
    }
   ],
   "source": [
    "start=eval(input(\"enter the start value\"))\n",
    "end=eval(input(\"enter the end value\"))\n",
    "num=random.randint(start,end)\n",
    "if (num%2==0):\n",
    "    print (\"it is even number\")\n",
    "else:\n",
    "    print(\"odd numbe\")"
   ]
  },
  {
   "cell_type": "code",
   "execution_count": 9,
   "id": "89a43d5b-86e5-44fe-a836-ba7771c43205",
   "metadata": {},
   "outputs": [
    {
     "name": "stdin",
     "output_type": "stream",
     "text": [
      "[please emer the distance 35\n",
      "entwr the number 13\n"
     ]
    },
    {
     "name": "stdout",
     "output_type": "stream",
     "text": [
      "total charge is 455\n"
     ]
    }
   ],
   "source": [
    "# wap ask user enter the dostance\n",
    "#if distance grater than 20km\n",
    "#than ebnter the charge\n",
    "#print total cost\n",
    "#other wise print free ride\n",
    "\n",
    "num=eval(input(\"[please emer the distance\"))\n",
    "if num>25:\n",
    "    charge=eval(input(\"entwr the number\"))\n",
    "    cost=num*charge\n",
    "    print(f\"total charge is {cost}\")\n",
    "else:\n",
    "    print(\"free ride\")"
   ]
  },
  {
   "cell_type": "code",
   "execution_count": 10,
   "id": "613e3358-5ea8-4e77-9d1d-956206aea9b8",
   "metadata": {},
   "outputs": [
    {
     "name": "stdin",
     "output_type": "stream",
     "text": [
      "[please emer the distance 30\n",
      "enter the cut off distance in km 25\n"
     ]
    },
    {
     "name": "stdout",
     "output_type": "stream",
     "text": [
      "kuds to you chargable distance is: 5\n"
     ]
    },
    {
     "name": "stdin",
     "output_type": "stream",
     "text": [
      "entwr the number 13\n"
     ]
    },
    {
     "name": "stdout",
     "output_type": "stream",
     "text": [
      "total charge is 65\n"
     ]
    }
   ],
   "source": [
    "#wap ask user enter the distance \n",
    "#cutoff distance enter 20\n",
    "#if distance grater than 20\n",
    "#print(\"good neus charge is applicanle for only remaining of 20\")\n",
    "#chargable distance =distance-cutoff\n",
    "#then enter the change\n",
    "#print the total cost\n",
    "#otherwise\n",
    "#free ride\n",
    "distance=eval(input(\"[please emer the distance\"))\n",
    "cutoff_distance=eval(input(\"enter the cut off distance in km\"))\n",
    "if distance>cutoff_distance:\n",
    "    chargable_distance=distance-cutoff_distance\n",
    "    print(\"kuds to you chargable distance is:\" ,chargable_distance)\n",
    "    charge=eval(input(\"entwr the number\"))\n",
    "    cost=chargable_distance*charge\n",
    "    print(f\"total charge is {cost}\")\n",
    "else:\n",
    "    print(\"free ride\")\n",
    "    \n"
   ]
  },
  {
   "cell_type": "code",
   "execution_count": 11,
   "id": "8b709a45-abb1-48f2-93ab-f1df3e12ef5a",
   "metadata": {},
   "outputs": [
    {
     "name": "stdin",
     "output_type": "stream",
     "text": [
      "enter the course data science\n",
      "enter the institute naresh it\n"
     ]
    },
    {
     "name": "stdout",
     "output_type": "stream",
     "text": [
      "good\n"
     ]
    }
   ],
   "source": [
    "# wap ask user enter the couese\n",
    "#ask the enter institute\n",
    "#if the course equal to data science ans institute id nareshit #thaqn good \n",
    "#other wisw bad\n",
    "\n",
    "course=input(\"enter the course\")\n",
    "institute=input(\"enter the institute\")\n",
    "if course=='data science' and institute=='naresh it':\n",
    "    print(\"good\")\n",
    "else:\n",
    "    enter(\"bad\")"
   ]
  },
  {
   "cell_type": "code",
   "execution_count": 12,
   "id": "55db114a-108c-4581-b84e-1337bd0ab261",
   "metadata": {},
   "outputs": [
    {
     "name": "stdin",
     "output_type": "stream",
     "text": [
      "enter the course data science\n",
      "enter the institute kk\n"
     ]
    },
    {
     "name": "stdout",
     "output_type": "stream",
     "text": [
      "good\n"
     ]
    }
   ],
   "source": [
    "course=input(\"enter the course\")\n",
    "institute=input(\"enter the institute\")\n",
    "if course=='data science' or institute=='naresh it':\n",
    "    print(\"good\")\n",
    "else:\n",
    "    enter(\"bad\")"
   ]
  },
  {
   "cell_type": "markdown",
   "id": "227f32b5-c9cf-4442-9492-61d6d2b54200",
   "metadata": {},
   "source": [
    "- and mean two condition need to satisfu\n",
    "- or mean any one is enoufghm\n"
   ]
  },
  {
   "cell_type": "code",
   "execution_count": 17,
   "id": "1556803f-9986-4e53-9231-669545871a08",
   "metadata": {},
   "outputs": [
    {
     "name": "stdin",
     "output_type": "stream",
     "text": [
      "enter a number between 1-10 5\n"
     ]
    },
    {
     "name": "stdout",
     "output_type": "stream",
     "text": [
      "you lost\n"
     ]
    }
   ],
   "source": [
    "# wap ask the user enter rando number between 10-10\n",
    "# ask user enter a num from keyborf\n",
    "# if num1=num2\n",
    "#print you won\n",
    "#other wise you fail\n",
    "\n",
    "num1=random.randint(1,10)\n",
    "num2=eval(input(\"enter a number between 1-10\"))\n",
    "if num1==num2:\n",
    "    print(\"you won\")\n",
    "else:\n",
    "    print(\"you lost\")"
   ]
  },
  {
   "cell_type": "markdown",
   "id": "5efaf4b8-25f2-4e93-92a7-b629ebe913ec",
   "metadata": {},
   "source": [
    "- till now we have seen one condition problem \n",
    "- if condition is true than we get on ans if false we get another ans\n",
    "- how about we have more than 2 condition\n",
    "- two condition mean 3 result\n",
    "- if elif else\n",
    "- if has one condition\n",
    "- elif has one condition\n",
    "- if both false than else\n"
   ]
  },
  {
   "cell_type": "code",
   "execution_count": null,
   "id": "a3d5d943-5e76-4e4c-8039-80145556c596",
   "metadata": {},
   "outputs": [],
   "source": [
    "if <condition>:\n",
    "    <statement>\n",
    "elif <condition>:\n",
    "    <statenent>\n",
    "else:\n",
    "    <statement>\n",
    "    "
   ]
  },
  {
   "cell_type": "code",
   "execution_count": 18,
   "id": "133c80f8-2d9e-4631-aa40-162ac89986aa",
   "metadata": {},
   "outputs": [
    {
     "name": "stdin",
     "output_type": "stream",
     "text": [
      "please enter a number 5\n"
     ]
    },
    {
     "name": "stdout",
     "output_type": "stream",
     "text": [
      "enter valid number\n"
     ]
    }
   ],
   "source": [
    "#wap ask the user enter num\n",
    "#if number equal to 1 print one\n",
    "#is num equal to 2 thn print two\n",
    "#if num = 3 print therr\n",
    "#else print enter valid num\n",
    "\n",
    "num=eval(input(\"please enter a number\"))\n",
    "if num==1:\n",
    "    print(\"number one\")\n",
    "elif num==2:\n",
    "    print(\"number two\")\n",
    "elif num==3:\n",
    "    print(\"mumber therr\")\n",
    "else:\n",
    "    print(\"enter valid number\")"
   ]
  },
  {
   "cell_type": "code",
   "execution_count": 20,
   "id": "8cd1d8aa-a518-4fbf-8920-abde42dd7dd8",
   "metadata": {},
   "outputs": [
    {
     "name": "stdin",
     "output_type": "stream",
     "text": [
      "please enter a number 5\n"
     ]
    },
    {
     "name": "stdout",
     "output_type": "stream",
     "text": [
      "positive number\n"
     ]
    }
   ],
   "source": [
    "# wap ask user enter a number\n",
    "\n",
    "# if that nimber grater than 0 print positive\n",
    "# if that number less than zero print negative\n",
    "#otherwise print zero\n",
    "num=eval(input(\"please enter a number\"))\n",
    "if num>0:\n",
    "    print(\"positive number\")\n",
    "elif num<0:\n",
    "    print(\"negative number\")\n",
    "else:\n",
    "    print(\"it is zero\")"
   ]
  },
  {
   "cell_type": "code",
   "execution_count": 25,
   "id": "16b8660c-f33b-4b81-b466-8042cce920b1",
   "metadata": {},
   "outputs": [
    {
     "name": "stdin",
     "output_type": "stream",
     "text": [
      "enter youe persentage 52\n"
     ]
    },
    {
     "name": "stdout",
     "output_type": "stream",
     "text": [
      "c grade\n"
     ]
    }
   ],
   "source": [
    "# wap ask user enter persentage of mark\n",
    "# is persent > 90 peinrt a grade\n",
    "# if persentage between 75 to 90 print b grade\n",
    "#if persentage between 50to 75 print c\n",
    "# if persent 35-50 d\n",
    "#else fail\n",
    "\n",
    "persent=eval(input(\"enter youe persentage\"))\n",
    "if persent>90:\n",
    "    print(\"A grade\")\n",
    "elif persent>75 and persent<90:\n",
    "    print(\"B grade\")\n",
    "elif persent>50 and persent<75:\n",
    "    print(\"c grade\")\n",
    "elif persent>35 and persent<50:\n",
    "    print(\"d grade\")\n",
    "elif persent>=35:\n",
    "    print(\"fail\")\n",
    "    "
   ]
  },
  {
   "cell_type": "code",
   "execution_count": 26,
   "id": "2b704dde-ea5f-481f-94f3-ed15d7ae5994",
   "metadata": {},
   "outputs": [
    {
     "name": "stdin",
     "output_type": "stream",
     "text": [
      "enter youe persentage 25\n"
     ]
    },
    {
     "name": "stdout",
     "output_type": "stream",
     "text": [
      "fail\n"
     ]
    }
   ],
   "source": [
    "persent=eval(input(\"enter youe persentage\"))\n",
    "if persent>=90:\n",
    "    print(\"A grade\")\n",
    "elif persent>=75:\n",
    "    print(\"B grade\")\n",
    "elif persent>=50:\n",
    "    print(\"c grade\")\n",
    "elif persent>=35:\n",
    "    print(\"d grade\")\n",
    "else:\n",
    "    print(\"fail\")"
   ]
  },
  {
   "cell_type": "code",
   "execution_count": null,
   "id": "ad63e703-6a54-4e3c-bef6-0837b9e57526",
   "metadata": {},
   "outputs": [],
   "source": [
    "# wap as user enter age \n",
    "#if age geater nhan print old age if age >50 senior setion\n",
    "#age30-50 mid age\n",
    "#age 15to 30 young\n",
    "#age less rthn 15 kis\n",
    "\n",
    "age=eval(input(\"enter the age\"))\n",
    "if age>=100:\n",
    "    print(\"you are luckey\")\n",
    "elif age>=75:\n",
    "    print(\"old\")\n",
    "elif ahe>=50:\n",
    "    print(\"mid age\")\n",
    "elif age>=30:\n",
    "    print(\"young\")\n"
   ]
  },
  {
   "cell_type": "code",
   "execution_count": 1,
   "id": "7d8ecee8-55fd-4213-85b4-d97d8d3e90e1",
   "metadata": {},
   "outputs": [],
   "source": [
    "#wap ask the user 2 number\n",
    "# num1,num2\n",
    "#ypu need to print\n",
    "#enter opreation 1 for adition\n",
    "#enter operation 2 for mul\n",
    "#operation 3 for sub\n",
    "#opr 4 for dev\n",
    "# enter the operation between 1-4\n",
    "# opereation equal to add 1 \n",
    "# operation 2 mul\n",
    "# operation 3 mul 4 dev else enter valod num"
   ]
  },
  {
   "cell_type": "code",
   "execution_count": 6,
   "id": "c6685460-bb8d-42bb-a1f9-9bb8f646999b",
   "metadata": {},
   "outputs": [
    {
     "name": "stdin",
     "output_type": "stream",
     "text": [
      "please enter the first number 10\n",
      "please enter the second number 20\n"
     ]
    },
    {
     "name": "stdout",
     "output_type": "stream",
     "text": [
      "ebter operation 1 for addition\n",
      "ebter operation 2 for addition\n",
      "ebter operation 3 for addition\n",
      "ebter operation 4 for addition\n"
     ]
    },
    {
     "name": "stdin",
     "output_type": "stream",
     "text": [
      "enter your choice of operation 4\n"
     ]
    },
    {
     "name": "stdout",
     "output_type": "stream",
     "text": [
      " divide is 0.5\n"
     ]
    }
   ],
   "source": [
    "num1=eval(input(\"please enter the first number\"))\n",
    "num2=eval(input(\"please enter the second number\"))\n",
    "print(\"ebter operation 1 for addition\")\n",
    "print(\"ebter operation 2 for addition\")\n",
    "print(\"ebter operation 3 for addition\")\n",
    "print(\"ebter operation 4 for addition\")\n",
    "op=eval(input(\"enter your choice of operation\"))\n",
    "if op==1:\n",
    "    addition=num1+num2\n",
    "    print(f\"sum is {addition}\")\n",
    "elif op==2:\n",
    "    multiplicaion=nun1*num2\n",
    "    prrint(f\"produvt is {multiplication}\")\n",
    "elif op==3:\n",
    "    substraction=num1-num2\n",
    "    print(f\" sub is {substraction}\")\n",
    "elif op==4:\n",
    "    divide=num1/num2\n",
    "    print(f\" divide is {divide}\")\n",
    "else:\n",
    "    print(\"enter valid number or operation\")"
   ]
  },
  {
   "cell_type": "raw",
   "id": "93b46eb6-7d9b-404a-a585-610b26391ee6",
   "metadata": {},
   "source": [
    "write a program ask user to enter gender\n",
    "if gender is mail\n",
    "ask user age\n",
    "if age \n",
    "60- ss\n",
    "30-60 man\n",
    "15-30 young\n",
    "other wise boyu"
   ]
  },
  {
   "cell_type": "code",
   "execution_count": 16,
   "id": "2ac72e83-19f9-4072-909c-cbf2edcf9eb8",
   "metadata": {},
   "outputs": [
    {
     "name": "stdin",
     "output_type": "stream",
     "text": [
      "please enter your gensr male\n",
      "enter the age 20\n"
     ]
    },
    {
     "name": "stdout",
     "output_type": "stream",
     "text": [
      "young\n"
     ]
    }
   ],
   "source": [
    "gender=input(\"please enter your gensr\")\n",
    "if gender==\"male\":\n",
    "    age=eval(input(\"enter the age\"))\n",
    "    if age>=60:\n",
    "        print(\"you are senior citizen\")\n",
    "    elif age>=30:\n",
    "        print(\"mid age man\")\n",
    "    elif age>=15:\n",
    "        print(\"young\")\n",
    "    else:\n",
    "        print(\"boy\")\n",
    "\n",
    "elif gender==\"femail\":\n",
    "    age=eval(input(\"enter the age\"))\n",
    "    if age>=60:\n",
    "        print(\"you are senior citizen\")\n",
    "    elif age>=30:\n",
    "        print(\"mid age women\")\n",
    "    elif age>=15:\n",
    "        print(\"young\")\n",
    "    else:\n",
    "        print(\"Girl\")\n",
    "else:\n",
    "    (\"enter a valid number\")"
   ]
  },
  {
   "cell_type": "raw",
   "id": "e0b33055-3c6c-4a74-b2b7-c74c5c74ceb1",
   "metadata": {},
   "source": [
    "write a program ask user to enter a number\n",
    "if number geater than equal to \n",
    "       if number =0\n",
    "             print 0\n",
    "   else \n",
    "         print positive\n",
    "else \n",
    "    print negativer"
   ]
  },
  {
   "cell_type": "code",
   "execution_count": 17,
   "id": "3ac48c1b-ed92-4cde-b9d7-1c202a0f491e",
   "metadata": {},
   "outputs": [
    {
     "name": "stdin",
     "output_type": "stream",
     "text": [
      "please enter a number 10\n"
     ]
    },
    {
     "name": "stdout",
     "output_type": "stream",
     "text": [
      "Positive\n"
     ]
    }
   ],
   "source": [
    "number=eval(input(\"please enter a number\"))\n",
    "if number >= 0:\n",
    "    if number == 0:\n",
    "        print(\"0\")\n",
    "    else:\n",
    "        print(\"Positive\")\n",
    "else:\n",
    "    print(\"Negative\")"
   ]
  },
  {
   "cell_type": "code",
   "execution_count": null,
   "id": "6b2c7190-fff2-4f25-a4b8-76e3d01970b4",
   "metadata": {},
   "outputs": [],
   "source": []
  }
 ],
 "metadata": {
  "kernelspec": {
   "display_name": "Python 3 (ipykernel)",
   "language": "python",
   "name": "python3"
  },
  "language_info": {
   "codemirror_mode": {
    "name": "ipython",
    "version": 3
   },
   "file_extension": ".py",
   "mimetype": "text/x-python",
   "name": "python",
   "nbconvert_exporter": "python",
   "pygments_lexer": "ipython3",
   "version": "3.11.7"
  }
 },
 "nbformat": 4,
 "nbformat_minor": 5
}
