{
 "cells": [
  {
   "cell_type": "code",
   "execution_count": 1,
   "id": "f93fb3ad-0783-4b7a-bbe3-f89fede1bf3d",
   "metadata": {},
   "outputs": [],
   "source": [
    "true=True\n",
    "\n",
    "#small true is vaeiable \n",
    "#True is a booleanvalue"
   ]
  },
  {
   "cell_type": "code",
   "execution_count": 2,
   "id": "83d791b2-eb40-4f24-81fa-228a58f203bd",
   "metadata": {},
   "outputs": [
    {
     "data": {
      "text/plain": [
       "True"
      ]
     },
     "execution_count": 2,
     "metadata": {},
     "output_type": "execute_result"
    }
   ],
   "source": [
    "true"
   ]
  },
  {
   "cell_type": "markdown",
   "id": "9aa2d2af-4377-434b-a82d-768dfa8a4bbc",
   "metadata": {},
   "source": [
    "- intiger datatype\n",
    "- float as bloat\n",
    "- string as str\n",
    "- boolean data type boolm"
   ]
  },
  {
   "cell_type": "markdown",
   "id": "4e373743-7e40-444f-9968-00c70dd05aac",
   "metadata": {},
   "source": [
    "**TYPE CASTING**\n",
    "- CONVORT ONE DATA TYPE TO ANOTHER DATA TYPE IS CALLES AS TYPE CASTING\n",
    "- WHICH NEAB WE WANT TO CONVORT\n",
    "- FLOAT TO OTHER\n",
    "- BOL TO OTHER\n",
    "- STR TO OTHER"
   ]
  },
  {
   "cell_type": "markdown",
   "id": "c03e595e-6927-48fb-890f-cd0032fb0c9d",
   "metadata": {},
   "source": [
    "** INTIGER TO OTHER***"
   ]
  },
  {
   "cell_type": "markdown",
   "id": "ae4da0ce-4b54-46f5-a194-59d94f6f1787",
   "metadata": {},
   "source": [
    "$int-float$"
   ]
  },
  {
   "cell_type": "code",
   "execution_count": 5,
   "id": "350fccc7-f1ae-4202-82bb-da3652a16985",
   "metadata": {},
   "outputs": [
    {
     "data": {
      "text/plain": [
       "int"
      ]
     },
     "execution_count": 5,
     "metadata": {},
     "output_type": "execute_result"
    }
   ],
   "source": [
    "num=100\n",
    "type(num)"
   ]
  },
  {
   "cell_type": "code",
   "execution_count": 8,
   "id": "ab50b05f-a922-44e1-9907-3e34674404b4",
   "metadata": {},
   "outputs": [
    {
     "data": {
      "text/plain": [
       "float"
      ]
     },
     "execution_count": 8,
     "metadata": {},
     "output_type": "execute_result"
    }
   ],
   "source": [
    "float_num=float(num)\n",
    "type(float_num)"
   ]
  },
  {
   "cell_type": "code",
   "execution_count": 9,
   "id": "4a59bf2f-54a3-43de-902d-52a4b0b99710",
   "metadata": {},
   "outputs": [
    {
     "data": {
      "text/plain": [
       "'100'"
      ]
     },
     "execution_count": 9,
     "metadata": {},
     "output_type": "execute_result"
    }
   ],
   "source": [
    "str_num=str(num)\n",
    "str_num"
   ]
  },
  {
   "cell_type": "code",
   "execution_count": 10,
   "id": "4092a72f-0434-4d46-8b5e-1bfc0e95dba3",
   "metadata": {},
   "outputs": [
    {
     "data": {
      "text/plain": [
       "str"
      ]
     },
     "execution_count": 10,
     "metadata": {},
     "output_type": "execute_result"
    }
   ],
   "source": [
    "type(str_num)"
   ]
  },
  {
   "cell_type": "code",
   "execution_count": 12,
   "id": "b414c88a-7ad5-4a33-8f1b-9c4260e3605c",
   "metadata": {},
   "outputs": [
    {
     "data": {
      "text/plain": [
       "True"
      ]
     },
     "execution_count": 12,
     "metadata": {},
     "output_type": "execute_result"
    }
   ],
   "source": [
    "bol_num=bool(num)\n",
    "bol_num"
   ]
  },
  {
   "cell_type": "code",
   "execution_count": 13,
   "id": "93e56bf8-26e7-47aa-9e0d-7c12e82a0f27",
   "metadata": {},
   "outputs": [
    {
     "data": {
      "text/plain": [
       "(200.0, '200', True)"
      ]
     },
     "execution_count": 13,
     "metadata": {},
     "output_type": "execute_result"
    }
   ],
   "source": [
    "float(200),str(200),bool(200)"
   ]
  },
  {
   "cell_type": "code",
   "execution_count": 14,
   "id": "bb539453-c778-4533-8831-be0797d360ae",
   "metadata": {},
   "outputs": [
    {
     "data": {
      "text/plain": [
       "(-200.0, '-200', True)"
      ]
     },
     "execution_count": 14,
     "metadata": {},
     "output_type": "execute_result"
    }
   ],
   "source": [
    "float(-200),str(-200),bool(-200)"
   ]
  },
  {
   "cell_type": "code",
   "execution_count": 16,
   "id": "a48256ac-6c71-47e4-bd4a-e9ad32a6707b",
   "metadata": {},
   "outputs": [
    {
     "data": {
      "text/plain": [
       "False"
      ]
     },
     "execution_count": 16,
     "metadata": {},
     "output_type": "execute_result"
    }
   ],
   "source": [
    "bool(0)"
   ]
  },
  {
   "cell_type": "markdown",
   "id": "85c15c16-c48c-4d6e-9b1f-f175941a33c2",
   "metadata": {},
   "source": [
    "- int=o than bool= false \n",
    "- ouherwise it is true"
   ]
  },
  {
   "cell_type": "code",
   "execution_count": 17,
   "id": "5435f457-ece4-4036-9cab-f9aa33bc7088",
   "metadata": {},
   "outputs": [
    {
     "data": {
      "text/plain": [
       "False"
      ]
     },
     "execution_count": 17,
     "metadata": {},
     "output_type": "execute_result"
    }
   ],
   "source": [
    "bool()"
   ]
  },
  {
   "cell_type": "markdown",
   "id": "e934dcaa-087f-43ff-9b9f-64b707707707",
   "metadata": {},
   "source": [
    "***float to other***"
   ]
  },
  {
   "cell_type": "code",
   "execution_count": 18,
   "id": "ae3f1295-5176-4d70-9d64-55eab39191f7",
   "metadata": {},
   "outputs": [
    {
     "data": {
      "text/plain": [
       "True"
      ]
     },
     "execution_count": 18,
     "metadata": {},
     "output_type": "execute_result"
    }
   ],
   "source": [
    "int(200.5)\n",
    "str(200.5)\n",
    "bool(200.5)"
   ]
  },
  {
   "cell_type": "code",
   "execution_count": 19,
   "id": "49b49389-e948-45cf-83a7-545157f37ce1",
   "metadata": {},
   "outputs": [
    {
     "data": {
      "text/plain": [
       "(200, '200.5', False)"
      ]
     },
     "execution_count": 19,
     "metadata": {},
     "output_type": "execute_result"
    }
   ],
   "source": [
    "int(200.5),str(200.5),bool(0.0)"
   ]
  },
  {
   "cell_type": "markdown",
   "id": "01cc5f09-0c25-40c6-924b-ddbe94064823",
   "metadata": {},
   "source": [
    "***string to othrt****"
   ]
  },
  {
   "cell_type": "code",
   "execution_count": 20,
   "id": "fe6afead-3929-4a3e-ba42-8776a89ba6d6",
   "metadata": {},
   "outputs": [],
   "source": [
    "#case1\n",
    "str='apple'\n",
    "#case2 \n",
    "ste1='10'\n",
    "#case3\n",
    "str2='10.5'"
   ]
  },
  {
   "cell_type": "code",
   "execution_count": 21,
   "id": "ca775fc7-0bc4-44d7-8630-7229c68031a2",
   "metadata": {},
   "outputs": [
    {
     "ename": "ValueError",
     "evalue": "invalid literal for int() with base 10: 'apple'",
     "output_type": "error",
     "traceback": [
      "\u001b[1;31m---------------------------------------------------------------------------\u001b[0m",
      "\u001b[1;31mValueError\u001b[0m                                Traceback (most recent call last)",
      "Cell \u001b[1;32mIn[21], line 1\u001b[0m\n\u001b[1;32m----> 1\u001b[0m \u001b[38;5;28mint\u001b[39m(\u001b[38;5;124m'\u001b[39m\u001b[38;5;124mapple\u001b[39m\u001b[38;5;124m'\u001b[39m)\n",
      "\u001b[1;31mValueError\u001b[0m: invalid literal for int() with base 10: 'apple'"
     ]
    }
   ],
   "source": [
    "int('apple')"
   ]
  },
  {
   "cell_type": "code",
   "execution_count": 25,
   "id": "95bb341e-4502-4733-b200-d364c3fff344",
   "metadata": {},
   "outputs": [
    {
     "ename": "ValueError",
     "evalue": "could not convert string to float: 'apple'",
     "output_type": "error",
     "traceback": [
      "\u001b[1;31m---------------------------------------------------------------------------\u001b[0m",
      "\u001b[1;31mValueError\u001b[0m                                Traceback (most recent call last)",
      "Cell \u001b[1;32mIn[25], line 1\u001b[0m\n\u001b[1;32m----> 1\u001b[0m \u001b[38;5;28mfloat\u001b[39m(\u001b[38;5;124m'\u001b[39m\u001b[38;5;124mapple\u001b[39m\u001b[38;5;124m'\u001b[39m)\n",
      "\u001b[1;31mValueError\u001b[0m: could not convert string to float: 'apple'"
     ]
    }
   ],
   "source": [
    "float('apple')"
   ]
  },
  {
   "cell_type": "code",
   "execution_count": 23,
   "id": "07f51d73-5654-45ca-b7f9-e89cf37f6507",
   "metadata": {},
   "outputs": [
    {
     "data": {
      "text/plain": [
       "True"
      ]
     },
     "execution_count": 23,
     "metadata": {},
     "output_type": "execute_result"
    }
   ],
   "source": [
    "bool('apple')"
   ]
  },
  {
   "cell_type": "code",
   "execution_count": 24,
   "id": "6782350d-06ad-4fa9-b412-44ce0b23ac97",
   "metadata": {},
   "outputs": [
    {
     "data": {
      "text/plain": [
       "10"
      ]
     },
     "execution_count": 24,
     "metadata": {},
     "output_type": "execute_result"
    }
   ],
   "source": [
    "int('10')"
   ]
  },
  {
   "cell_type": "code",
   "execution_count": 26,
   "id": "7438b42f-c677-439f-8b58-50e6de8ff091",
   "metadata": {},
   "outputs": [
    {
     "data": {
      "text/plain": [
       "10.0"
      ]
     },
     "execution_count": 26,
     "metadata": {},
     "output_type": "execute_result"
    }
   ],
   "source": [
    "float(\"10\")"
   ]
  },
  {
   "cell_type": "code",
   "execution_count": 27,
   "id": "a4e55cda-df3c-4022-9694-34e035182432",
   "metadata": {},
   "outputs": [
    {
     "data": {
      "text/plain": [
       "True"
      ]
     },
     "execution_count": 27,
     "metadata": {},
     "output_type": "execute_result"
    }
   ],
   "source": [
    "bool('10')"
   ]
  },
  {
   "cell_type": "code",
   "execution_count": 28,
   "id": "fbbf90cf-37b8-4593-8bf5-a72cc1221622",
   "metadata": {},
   "outputs": [
    {
     "ename": "ValueError",
     "evalue": "invalid literal for int() with base 10: '10.5'",
     "output_type": "error",
     "traceback": [
      "\u001b[1;31m---------------------------------------------------------------------------\u001b[0m",
      "\u001b[1;31mValueError\u001b[0m                                Traceback (most recent call last)",
      "Cell \u001b[1;32mIn[28], line 1\u001b[0m\n\u001b[1;32m----> 1\u001b[0m \u001b[38;5;28mint\u001b[39m(\u001b[38;5;124m'\u001b[39m\u001b[38;5;124m10.5\u001b[39m\u001b[38;5;124m'\u001b[39m)\n",
      "\u001b[1;31mValueError\u001b[0m: invalid literal for int() with base 10: '10.5'"
     ]
    }
   ],
   "source": [
    "int('10.5')"
   ]
  },
  {
   "cell_type": "code",
   "execution_count": 29,
   "id": "948902c0-23ac-4eb9-b9e6-58e5e5169ed4",
   "metadata": {},
   "outputs": [
    {
     "data": {
      "text/plain": [
       "10.5"
      ]
     },
     "execution_count": 29,
     "metadata": {},
     "output_type": "execute_result"
    }
   ],
   "source": [
    "float('10.5')"
   ]
  },
  {
   "cell_type": "code",
   "execution_count": 30,
   "id": "85ea9bf8-4431-4cc3-b049-31053e84abef",
   "metadata": {},
   "outputs": [
    {
     "data": {
      "text/plain": [
       "True"
      ]
     },
     "execution_count": 30,
     "metadata": {},
     "output_type": "execute_result"
    }
   ],
   "source": [
    "bool('10.5')"
   ]
  },
  {
   "cell_type": "markdown",
   "id": "43144391-7591-4bb9-a39a-1f883d1ab751",
   "metadata": {},
   "source": [
    "- float is the boss whish mean float of any value either int in string format or float in string format it eill work\n",
    "- but int will only work for integer in string format\n",
    "- integer type casting will fail for float steingm"
   ]
  },
  {
   "cell_type": "code",
   "execution_count": 34,
   "id": "c4db9d9e-0e7d-4f4b-849d-2b7ed6400ae7",
   "metadata": {},
   "outputs": [
    {
     "data": {
      "text/plain": [
       "True"
      ]
     },
     "execution_count": 34,
     "metadata": {},
     "output_type": "execute_result"
    }
   ],
   "source": [
    "bool('0')"
   ]
  },
  {
   "cell_type": "markdown",
   "id": "d68d67f9-f634-4349-b1fe-a155867ea1a7",
   "metadata": {},
   "source": [
    "- somthing is there in cotes it will be true else falsemm\n"
   ]
  },
  {
   "cell_type": "code",
   "execution_count": 42,
   "id": "103342b5-532a-4da8-9dc2-c3a3e0186e6e",
   "metadata": {},
   "outputs": [
    {
     "ename": "TypeError",
     "evalue": "'bool' object is not callable",
     "output_type": "error",
     "traceback": [
      "\u001b[1;31m---------------------------------------------------------------------------\u001b[0m",
      "\u001b[1;31mTypeError\u001b[0m                                 Traceback (most recent call last)",
      "Cell \u001b[1;32mIn[42], line 1\u001b[0m\n\u001b[1;32m----> 1\u001b[0m \u001b[38;5;28mint\u001b[39m(\u001b[38;5;28;01mTrue\u001b[39;00m)\n",
      "\u001b[1;31mTypeError\u001b[0m: 'bool' object is not callable"
     ]
    }
   ],
   "source": [
    "int(True)\n"
   ]
  },
  {
   "cell_type": "code",
   "execution_count": 43,
   "id": "df6b8231-cfde-4123-bf49-57ae64218d84",
   "metadata": {},
   "outputs": [
    {
     "data": {
      "text/plain": [
       "1.0"
      ]
     },
     "execution_count": 43,
     "metadata": {},
     "output_type": "execute_result"
    }
   ],
   "source": [
    "float(true)"
   ]
  },
  {
   "cell_type": "code",
   "execution_count": 44,
   "id": "32ae4329-0fc2-40d1-8202-dc5dc3d9256e",
   "metadata": {},
   "outputs": [
    {
     "ename": "SyntaxError",
     "evalue": "incomplete input (375922392.py, line 1)",
     "output_type": "error",
     "traceback": [
      "\u001b[1;36m  Cell \u001b[1;32mIn[44], line 1\u001b[1;36m\u001b[0m\n\u001b[1;33m    int(true\u001b[0m\n\u001b[1;37m            ^\u001b[0m\n\u001b[1;31mSyntaxError\u001b[0m\u001b[1;31m:\u001b[0m incomplete input\n"
     ]
    }
   ],
   "source": [
    "int(true"
   ]
  },
  {
   "cell_type": "code",
   "execution_count": null,
   "id": "31cbefee-c4fe-47f9-9185-db174b9788b3",
   "metadata": {},
   "outputs": [],
   "source": [
    "float(100)\n",
    "str(100)\n",
    "bool(100)\n",
    "\n",
    "\n",
    "\n",
    "int(100.5)\n",
    "str(100.5)\n",
    "bool(100.5)\n",
    "\n",
    "\n",
    "bool(0)\n",
    "\n",
    "\n",
    "str='apple\n",
    "ste1='10\n",
    "str2='10.5'\n",
    "\n",
    "bool('apple')\n",
    "int('10')\n",
    "int('10.5')\n",
    "\n"
   ]
  }
 ],
 "metadata": {
  "kernelspec": {
   "display_name": "Python 3 (ipykernel)",
   "language": "python",
   "name": "python3"
  },
  "language_info": {
   "codemirror_mode": {
    "name": "ipython",
    "version": 3
   },
   "file_extension": ".py",
   "mimetype": "text/x-python",
   "name": "python",
   "nbconvert_exporter": "python",
   "pygments_lexer": "ipython3",
   "version": "3.11.7"
  }
 },
 "nbformat": 4,
 "nbformat_minor": 5
}
