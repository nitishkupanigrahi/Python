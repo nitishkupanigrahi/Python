{
 "cells": [
  {
   "cell_type": "code",
   "execution_count": 2,
   "id": "2e34ea43-9508-4950-a19e-8df062882fe4",
   "metadata": {},
   "outputs": [
    {
     "data": {
      "text/plain": [
       "300"
      ]
     },
     "execution_count": 2,
     "metadata": {},
     "output_type": "execute_result"
    }
   ],
   "source": [
    "num1=100\n",
    "num2=200\n",
    "add=num1+num2\n",
    "add"
   ]
  },
  {
   "cell_type": "markdown",
   "id": "56ea0239-9eaf-4df5-b85b-cc8db9e5fd18",
   "metadata": {},
   "source": [
    "$input keyword\n",
    "\n",
    "- take input from user\n"
   ]
  },
  {
   "cell_type": "code",
   "execution_count": 3,
   "id": "d3b9ca4c-cdcb-4ac3-9684-395925ccea94",
   "metadata": {},
   "outputs": [
    {
     "name": "stdin",
     "output_type": "stream",
     "text": [
      " 100\n"
     ]
    },
    {
     "data": {
      "text/plain": [
       "'100'"
      ]
     },
     "execution_count": 3,
     "metadata": {},
     "output_type": "execute_result"
    }
   ],
   "source": [
    "input()"
   ]
  },
  {
   "cell_type": "code",
   "execution_count": 4,
   "id": "72c26bad-d467-4a21-a442-9acf020f3386",
   "metadata": {},
   "outputs": [
    {
     "name": "stdin",
     "output_type": "stream",
     "text": [
      "enter the number 12231523\n"
     ]
    },
    {
     "data": {
      "text/plain": [
       "'12231523'"
      ]
     },
     "execution_count": 4,
     "metadata": {},
     "output_type": "execute_result"
    }
   ],
   "source": [
    "input(\"enter the number\")"
   ]
  },
  {
   "cell_type": "code",
   "execution_count": 6,
   "id": "1e4da0a2-121f-43bb-96c6-0eac7078d915",
   "metadata": {},
   "outputs": [
    {
     "name": "stdin",
     "output_type": "stream",
     "text": [
      " 100\n",
      " 200\n"
     ]
    },
    {
     "data": {
      "text/plain": [
       "'200'"
      ]
     },
     "execution_count": 6,
     "metadata": {},
     "output_type": "execute_result"
    }
   ],
   "source": [
    "input()\n",
    "input()"
   ]
  },
  {
   "cell_type": "code",
   "execution_count": 7,
   "id": "c2b62e10-7335-4d40-bb2f-0222c8721c1e",
   "metadata": {},
   "outputs": [
    {
     "name": "stdin",
     "output_type": "stream",
     "text": [
      " 100\n",
      " 200\n",
      " 300\n"
     ]
    },
    {
     "data": {
      "text/plain": [
       "'300'"
      ]
     },
     "execution_count": 7,
     "metadata": {},
     "output_type": "execute_result"
    }
   ],
   "source": [
    "input()\n",
    "input()\n",
    "input()"
   ]
  },
  {
   "cell_type": "code",
   "execution_count": 8,
   "id": "4353d943-c92f-4bbd-af35-28e063049096",
   "metadata": {},
   "outputs": [
    {
     "name": "stdin",
     "output_type": "stream",
     "text": [
      "enter the number1 100\n",
      "enter the number2 200\n",
      "enter the number3 300\n"
     ]
    },
    {
     "data": {
      "text/plain": [
       "'300'"
      ]
     },
     "execution_count": 8,
     "metadata": {},
     "output_type": "execute_result"
    }
   ],
   "source": [
    "input(\"enter the number1\")\n",
    "input(\"enter the number2\")\n",
    "input(\"enter the number3\")"
   ]
  },
  {
   "cell_type": "code",
   "execution_count": 10,
   "id": "16174c16-a83c-410c-8caf-8450813c14a2",
   "metadata": {},
   "outputs": [
    {
     "name": "stdin",
     "output_type": "stream",
     "text": [
      "enter the number1: 100\n",
      "enter the number2: 200\n"
     ]
    },
    {
     "data": {
      "text/plain": [
       "'100200'"
      ]
     },
     "execution_count": 10,
     "metadata": {},
     "output_type": "execute_result"
    }
   ],
   "source": [
    "num1=input(\"enter the number1:\")\n",
    "num2=input(\"enter the number2:\")\n",
    "num1+num2"
   ]
  },
  {
   "cell_type": "markdown",
   "id": "66be2493-f794-4f71-8962-5f61e93ff460",
   "metadata": {},
   "source": [
    "***note***\n",
    "- int always the stering datatype\n",
    "- in order to perform we need to convort to nmirical format ie int or float\n",
    "- "
   ]
  },
  {
   "cell_type": "code",
   "execution_count": 12,
   "id": "ebd6287d-3886-4394-8314-e5b7837ef80a",
   "metadata": {},
   "outputs": [
    {
     "name": "stdin",
     "output_type": "stream",
     "text": [
      "enter the number1: 100\n",
      "enter the number2: 100\n"
     ]
    },
    {
     "name": "stdout",
     "output_type": "stream",
     "text": [
      "addition is 200\n"
     ]
    }
   ],
   "source": [
    "num1=int(input(\"enter the number1:\"))\n",
    "num2=int(input(\"enter the number2:\"))\n",
    "add=(num1+num2)\n",
    "print(f\"addition is {add}\")"
   ]
  },
  {
   "cell_type": "code",
   "execution_count": 15,
   "id": "e1e519f5-2970-422a-a6d9-0e798403ab0e",
   "metadata": {},
   "outputs": [
    {
     "name": "stdin",
     "output_type": "stream",
     "text": [
      "enter the number1: 1200\n",
      "enter the number2: 200\n"
     ]
    },
    {
     "data": {
      "text/plain": [
       "1400"
      ]
     },
     "execution_count": 15,
     "metadata": {},
     "output_type": "execute_result"
    }
   ],
   "source": [
    "num1=input(\"enter the number1:\")\n",
    "num2=input(\"enter the number2:\")\n",
    "int(num1)+int(num2)"
   ]
  },
  {
   "cell_type": "markdown",
   "id": "26a5c071-7a33-4879-b987-b13869117eb6",
   "metadata": {},
   "source": [
    "**eval**"
   ]
  },
  {
   "cell_type": "markdown",
   "id": "6900ba47-cd0c-433f-aeaa-074978269632",
   "metadata": {},
   "source": [
    "- evaluate mean eval\n",
    "- eval eill take what wver the number evalwill convort to corrosponding data typem"
   ]
  },
  {
   "cell_type": "code",
   "execution_count": 17,
   "id": "f2e78843-722e-432f-9e99-adf43ebd3497",
   "metadata": {},
   "outputs": [
    {
     "name": "stdin",
     "output_type": "stream",
     "text": [
      "enter the number1: 100\n",
      "enter the number2: 200\n"
     ]
    },
    {
     "data": {
      "text/plain": [
       "300"
      ]
     },
     "execution_count": 17,
     "metadata": {},
     "output_type": "execute_result"
    }
   ],
   "source": [
    "num1=eval(input(\"enter the number1:\"))\n",
    "num2=eval(input(\"enter the number2:\"))\n",
    "num1+num2"
   ]
  },
  {
   "cell_type": "code",
   "execution_count": 18,
   "id": "f4a5a6d8-e7be-40ce-a51b-d741c8e7c47e",
   "metadata": {},
   "outputs": [],
   "source": [
    "#wap ask the user enter 3 number calculate avrade\n",
    "#find add,subract,multiple of 2 num\n",
    "#circle radius area que\n",
    "#restrunt bill\n",
    "#convort the bill amount daular to rupee ask user daular amount\n",
    "#area of the tringle\n"
   ]
  },
  {
   "cell_type": "code",
   "execution_count": 19,
   "id": "6572c09d-a0a7-42dd-a0db-fe85f3743108",
   "metadata": {},
   "outputs": [
    {
     "name": "stdin",
     "output_type": "stream",
     "text": [
      "enter the first number: 100\n",
      "enter the second number: 200\n",
      "enter the third number: 300\n"
     ]
    },
    {
     "name": "stdout",
     "output_type": "stream",
     "text": [
      "avrage of 100,200,300 is 200.0\n"
     ]
    }
   ],
   "source": [
    "num1=eval(input(\"enter the first number:\"))\n",
    "num2=eval(input(\"enter the second number:\"))\n",
    "num3=eval(input(\"enter the third number:\"))\n",
    "avrage=((num1+num2+num3)/3)\n",
    "print(f\"avrage of {num1},{num2},{num3} is {avrage}\") "
   ]
  },
  {
   "cell_type": "code",
   "execution_count": 20,
   "id": "cf3ed355-3c1b-4a18-b9a8-d6ba83d5cb4a",
   "metadata": {},
   "outputs": [
    {
     "name": "stdin",
     "output_type": "stream",
     "text": [
      "enter the first number: 100\n",
      "enter the second number: 200\n"
     ]
    },
    {
     "name": "stdout",
     "output_type": "stream",
     "text": [
      "addition of 100,200 is 300\n",
      "substraction of 100,200 is -100\n",
      "multiplaction of 100,200 is 20000\n",
      "divison of 100,200 is 0.5\n"
     ]
    }
   ],
   "source": [
    "num1=eval(input(\"enter the first number:\"))\n",
    "num2=eval(input(\"enter the second number:\"))\n",
    "add=num1+num2\n",
    "sub=num1-num2\n",
    "mul=num1*num2\n",
    "dev=num1/num2\n",
    "print(f\"addition of {num1},{num2} is {add}\")\n",
    "print(f\"substraction of {num1},{num2} is {sub}\")\n",
    "print(f\"multiplaction of {num1},{num2} is {mul}\")\n",
    "print(f\"divison of {num1},{num2} is {dev}\")\n"
   ]
  },
  {
   "cell_type": "code",
   "execution_count": 21,
   "id": "aab6c310-728d-448a-b4f1-23672170da48",
   "metadata": {},
   "outputs": [
    {
     "name": "stdin",
     "output_type": "stream",
     "text": [
      "enter pi value 3.14\n",
      "enter radius: 10\n"
     ]
    },
    {
     "name": "stdout",
     "output_type": "stream",
     "text": [
      "area of the circle is 314.0\n"
     ]
    }
   ],
   "source": [
    "pi=eval(input(\"enter pi value\"))\n",
    "radius=eval(input(\"enter radius:\"))\n",
    "area=(pi*radius*radius)\n",
    "print(f\"area of the circle is {area}\")"
   ]
  },
  {
   "cell_type": "code",
   "execution_count": 1,
   "id": "1d94bb24-7720-4aaf-9a24-527069862c57",
   "metadata": {},
   "outputs": [
    {
     "name": "stdin",
     "output_type": "stream",
     "text": [
      "enter the bill amoun: 1000\n",
      "enter tip persentage 10\n"
     ]
    },
    {
     "name": "stdout",
     "output_type": "stream",
     "text": [
      "total bill is 1100.0\n",
      "total bill is 1100.0\n"
     ]
    }
   ],
   "source": [
    "bill_amount=eval(input(\"enter the bill amoun:\"))\n",
    "tip_persentage=eval(input(\"enter tip persentage\"))\n",
    "tip_amount=(tip_persentage/100*bill_amount)\n",
    "total_bill=(bill_amount+tip_amount)\n",
    "print(f\"total bill is {total_bill}\")\n",
    "print(\"total bill is {}\".format(total_bill))"
   ]
  },
  {
   "cell_type": "code",
   "execution_count": null,
   "id": "08aa5f55-17a7-4892-833c-9f01f3ead860",
   "metadata": {},
   "outputs": [],
   "source": []
  }
 ],
 "metadata": {
  "kernelspec": {
   "display_name": "Python 3 (ipykernel)",
   "language": "python",
   "name": "python3"
  },
  "language_info": {
   "codemirror_mode": {
    "name": "ipython",
    "version": 3
   },
   "file_extension": ".py",
   "mimetype": "text/x-python",
   "name": "python",
   "nbconvert_exporter": "python",
   "pygments_lexer": "ipython3",
   "version": "3.11.7"
  }
 },
 "nbformat": 4,
 "nbformat_minor": 5
}
