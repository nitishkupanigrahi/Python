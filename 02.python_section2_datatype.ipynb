{
 "cells": [
  {
   "cell_type": "markdown",
   "id": "397bbc8e-7f2f-4d40-a12e-dab744e61ef8",
   "metadata": {},
   "source": [
    "**Data type**\n",
    "- in python type declare not avalable\n",
    "- python will take automatically take the data type as providedm\n",
    "- we have many data type\n",
    "- integer\n",
    "- float\n",
    "- boolean\n",
    "- string\n",
    "- list\n",
    "- disnary \n",
    "- touple\n",
    "- complex\n"
   ]
  },
  {
   "cell_type": "markdown",
   "id": "569223a4-1cdb-4aec-a158-137f5ae335c7",
   "metadata": {},
   "source": [
    "#integer"
   ]
  },
  {
   "cell_type": "code",
   "execution_count": 2,
   "id": "56a57798-ebe2-42cb-b54d-0f5596522ad3",
   "metadata": {},
   "outputs": [
    {
     "data": {
      "text/plain": [
       "int"
      ]
     },
     "execution_count": 2,
     "metadata": {},
     "output_type": "execute_result"
    }
   ],
   "source": [
    "n=100\n",
    "type(n)"
   ]
  },
  {
   "cell_type": "markdown",
   "id": "ca483802-d639-419d-9c18-24df58feeab4",
   "metadata": {},
   "source": [
    "- binary representation\n",
    "- octa representation\n",
    "- hexa representation"
   ]
  },
  {
   "cell_type": "code",
   "execution_count": 3,
   "id": "df324a6d-7007-4680-8038-a0e8760a43fe",
   "metadata": {},
   "outputs": [
    {
     "data": {
      "text/plain": [
       "1000"
      ]
     },
     "execution_count": 3,
     "metadata": {},
     "output_type": "execute_result"
    }
   ],
   "source": [
    "10000\n",
    "1222\n",
    "1000\n"
   ]
  },
  {
   "cell_type": "markdown",
   "id": "78aa6628-7e48-4b1f-aded-274eeabafb5d",
   "metadata": {},
   "source": [
    "**binary**\n",
    "- bi mean 2\n",
    "-so it requier 2 digits\n",
    "- generally we have 0 1 2 3 4 5 6 7 8 9\n",
    "- so it will repersent with only 0 and 1\n",
    "- representation is 0b10,0b01111\n",
    "- wrong representation is 0b102,0b007"
   ]
  },
  {
   "cell_type": "code",
   "execution_count": 4,
   "id": "32580b01-b7bf-42ef-9827-ad22cec0e853",
   "metadata": {},
   "outputs": [
    {
     "data": {
      "text/plain": [
       "7"
      ]
     },
     "execution_count": 4,
     "metadata": {},
     "output_type": "execute_result"
    }
   ],
   "source": [
    "0b111"
   ]
  },
  {
   "cell_type": "code",
   "execution_count": 5,
   "id": "d9475f31-db4f-4c58-8d0d-2e767f6f31f8",
   "metadata": {},
   "outputs": [
    {
     "data": {
      "text/plain": [
       "5"
      ]
     },
     "execution_count": 5,
     "metadata": {},
     "output_type": "execute_result"
    }
   ],
   "source": [
    "0b101"
   ]
  },
  {
   "cell_type": "code",
   "execution_count": 6,
   "id": "4f9978fa-7a74-4613-9592-2470f5e225b8",
   "metadata": {},
   "outputs": [
    {
     "data": {
      "text/plain": [
       "9"
      ]
     },
     "execution_count": 6,
     "metadata": {},
     "output_type": "execute_result"
    }
   ],
   "source": [
    "0b1001"
   ]
  },
  {
   "cell_type": "code",
   "execution_count": 1,
   "id": "cb93af55-497b-4d42-981a-ded36100539e",
   "metadata": {},
   "outputs": [],
   "source": [
    "import os"
   ]
  },
  {
   "cell_type": "code",
   "execution_count": 2,
   "id": "09fb221a-d0ff-46c0-a5c3-9ed11535cccc",
   "metadata": {},
   "outputs": [
    {
     "data": {
      "text/plain": [
       "<function nt.getcwd()>"
      ]
     },
     "execution_count": 2,
     "metadata": {},
     "output_type": "execute_result"
    }
   ],
   "source": [
    "os.getcwd"
   ]
  },
  {
   "cell_type": "code",
   "execution_count": 5,
   "id": "201fccd8-8ca3-44a5-8b77-048bf583d685",
   "metadata": {},
   "outputs": [
    {
     "data": {
      "text/plain": [
       "'C:\\\\Users\\\\nitis\\\\Documents\\\\Naresh IT\\\\python class\\\\Python'"
      ]
     },
     "execution_count": 5,
     "metadata": {},
     "output_type": "execute_result"
    }
   ],
   "source": [
    "os.getcwd()"
   ]
  },
  {
   "cell_type": "code",
   "execution_count": 7,
   "id": "28afbb31-a566-45d1-a49f-a681cc1f354e",
   "metadata": {},
   "outputs": [
    {
     "data": {
      "text/plain": [
       "15"
      ]
     },
     "execution_count": 7,
     "metadata": {},
     "output_type": "execute_result"
    }
   ],
   "source": [
    "0b1111"
   ]
  },
  {
   "cell_type": "code",
   "execution_count": 9,
   "id": "7a6188c8-5b49-4838-89ce-ea80ebd89a01",
   "metadata": {},
   "outputs": [
    {
     "ename": "SyntaxError",
     "evalue": "invalid syntax (1392817264.py, line 1)",
     "output_type": "error",
     "traceback": [
      "\u001b[1;36m  Cell \u001b[1;32mIn[9], line 1\u001b[1;36m\u001b[0m\n\u001b[1;33m    8   4 : 2   1       num\u001b[0m\n\u001b[1;37m        ^\u001b[0m\n\u001b[1;31mSyntaxError\u001b[0m\u001b[1;31m:\u001b[0m invalid syntax\n"
     ]
    }
   ],
   "source": [
    "8   4 : 2   1       num\n",
    "0   0   0   0         0\n",
    "0   0   0    1        1\n",
    "0   0   1    0        2\n",
    "0   0   1    1        3\n",
    "0   1   0    0        4\n",
    "0   1   0    1        5\n",
    "0   1   1    0        6\n",
    "0   1   1    1        7\n",
    "1   0   0    0       8\n",
    "1   0   0    1       9\n",
    "1   0   1    0      10\n",
    "1    0    1    1      11\n",
    "1    1   0    0      12\n",
    "1    1    0    1      13\n",
    "1    1    1    0      14\n",
    "1    1    1    1      15\n",
    "\n",
    "\n",
    "8   4   2  1"
   ]
  },
  {
   "cell_type": "code",
   "execution_count": 10,
   "id": "07a80f86-f2b2-4241-8862-d7ec0b17fc8b",
   "metadata": {},
   "outputs": [
    {
     "data": {
      "text/plain": [
       "59"
      ]
     },
     "execution_count": 10,
     "metadata": {},
     "output_type": "execute_result"
    }
   ],
   "source": [
    "0b111011"
   ]
  },
  {
   "cell_type": "markdown",
   "id": "6b4c3d91-747c-4f59-b73e-4b02171410b4",
   "metadata": {},
   "source": [
    "**octa**\n",
    "- octa means eight digits\n",
    "- generally we have 0 1 2 3 4 5 6 7 8 9\n",
    "- so it represent with 0 1 2 3 4 5 6 7\n",
    "- representation is 0o123,00012345,0o7654321\n",
    "- weong 0o1285"
   ]
  },
  {
   "cell_type": "code",
   "execution_count": 13,
   "id": "e0de3fbd-2fbf-4a2c-bf01-9975652a035a",
   "metadata": {},
   "outputs": [
    {
     "data": {
      "text/plain": [
       "83"
      ]
     },
     "execution_count": 13,
     "metadata": {},
     "output_type": "execute_result"
    }
   ],
   "source": [
    "0o123"
   ]
  },
  {
   "cell_type": "code",
   "execution_count": 14,
   "id": "70ed11cd-fa04-463f-87e7-b2c2ed9789e1",
   "metadata": {},
   "outputs": [
    {
     "data": {
      "text/plain": [
       "668"
      ]
     },
     "execution_count": 14,
     "metadata": {},
     "output_type": "execute_result"
    }
   ],
   "source": [
    "0o1234"
   ]
  },
  {
   "cell_type": "markdown",
   "id": "c289c65c-9851-405e-84c1-cb66c44c3c06",
   "metadata": {},
   "source": [
    "*hexa**\n",
    "- hexa means 16 digits\n",
    "- generally we have 0 1 2 3 4 5 6 7 8 9 :A{10] B[11] C[12] D[113] E[15] F[16]\n",
    "- so it represent with 0-9 A-F\n",
    "- 0XF9"
   ]
  },
  {
   "cell_type": "code",
   "execution_count": 17,
   "id": "469e67ec-71c5-486d-9337-236f4ab7a341",
   "metadata": {},
   "outputs": [
    {
     "data": {
      "text/plain": [
       "2748"
      ]
     },
     "execution_count": 17,
     "metadata": {},
     "output_type": "execute_result"
    }
   ],
   "source": [
    "0xabc"
   ]
  },
  {
   "cell_type": "markdown",
   "id": "f7b3e812-4d21-455b-bdc9-83e8d907fdc8",
   "metadata": {},
   "source": [
    "**float**\n",
    "\n"
   ]
  },
  {
   "cell_type": "code",
   "execution_count": 19,
   "id": "f252f2db-fafb-4232-9f81-228a7a054a4e",
   "metadata": {},
   "outputs": [
    {
     "data": {
      "text/plain": [
       "float"
      ]
     },
     "execution_count": 19,
     "metadata": {},
     "output_type": "execute_result"
    }
   ],
   "source": [
    "n1=1005.00\n",
    "type(n1)"
   ]
  },
  {
   "cell_type": "code",
   "execution_count": 26,
   "id": "545c2a71-d0b9-4078-8882-e52d17ac45eb",
   "metadata": {},
   "outputs": [
    {
     "data": {
      "text/plain": [
       "(10.0, 100.0, 1000.0, 10000.0, 100000.0)"
      ]
     },
     "execution_count": 26,
     "metadata": {},
     "output_type": "execute_result"
    }
   ],
   "source": [
    "1e1,1e2,1e3,1e4,1e5  #kep=k*10^3"
   ]
  },
  {
   "cell_type": "code",
   "execution_count": 27,
   "id": "7220ae59-a529-499c-a10f-a8998ca6e249",
   "metadata": {},
   "outputs": [
    {
     "data": {
      "text/plain": [
       "14000.0"
      ]
     },
     "execution_count": 27,
     "metadata": {},
     "output_type": "execute_result"
    }
   ],
   "source": [
    "14e3  #14*10^3"
   ]
  },
  {
   "cell_type": "code",
   "execution_count": 25,
   "id": "eda39d12-18f2-4fac-a7e8-d18b17030bbc",
   "metadata": {},
   "outputs": [
    {
     "data": {
      "text/plain": [
       "2400000.0"
      ]
     },
     "execution_count": 25,
     "metadata": {},
     "output_type": "execute_result"
    }
   ],
   "source": [
    "24e5"
   ]
  },
  {
   "cell_type": "markdown",
   "id": "528b1ece-3831-42b3-9b36-5655cbab41f8",
   "metadata": {},
   "source": [
    "1e+1,1e+2 same as 1e1\n"
   ]
  },
  {
   "cell_type": "code",
   "execution_count": 30,
   "id": "713a0023-2095-498b-b324-593a5a9e0709",
   "metadata": {},
   "outputs": [
    {
     "data": {
      "text/plain": [
       "0.1"
      ]
     },
     "execution_count": 30,
     "metadata": {},
     "output_type": "execute_result"
    }
   ],
   "source": [
    "1e-1"
   ]
  },
  {
   "cell_type": "markdown",
   "id": "5c2f9be7-6b7c-4d79-ad9d-6bc9a213f309",
   "metadata": {},
   "source": [
    "### "
   ]
  },
  {
   "cell_type": "code",
   "execution_count": 31,
   "id": "1443289a-f951-471f-bdf5-8565999db62b",
   "metadata": {},
   "outputs": [
    {
     "data": {
      "text/plain": [
       "2.4"
      ]
     },
     "execution_count": 31,
     "metadata": {},
     "output_type": "execute_result"
    }
   ],
   "source": [
    "24e-1  #24/10"
   ]
  },
  {
   "cell_type": "code",
   "execution_count": 32,
   "id": "30b9e78a-96cc-49eb-8ae1-0afcbb8be977",
   "metadata": {},
   "outputs": [
    {
     "data": {
      "text/plain": [
       "7.7e+16"
      ]
     },
     "execution_count": 32,
     "metadata": {},
     "output_type": "execute_result"
    }
   ],
   "source": [
    "77e15"
   ]
  },
  {
   "cell_type": "markdown",
   "id": "6ac1c3d0-5862-4dcd-99e5-e206eb8b6333",
   "metadata": {},
   "source": [
    "**strings**"
   ]
  },
  {
   "cell_type": "markdown",
   "id": "a63d84ba-d6e9-4ef2-a707-cfc965ddfae9",
   "metadata": {},
   "source": [
    "- string used to represent english characters\n",
    "- it will be represented in single cotes or double cote or triple cotem"
   ]
  },
  {
   "cell_type": "code",
   "execution_count": 36,
   "id": "2a4a7019-5f9d-48f3-b0f3-d945a45030b4",
   "metadata": {},
   "outputs": [
    {
     "data": {
      "text/plain": [
       "str"
      ]
     },
     "execution_count": 36,
     "metadata": {},
     "output_type": "execute_result"
    }
   ],
   "source": [
    "name='nitish'\n",
    "type(name)"
   ]
  },
  {
   "cell_type": "code",
   "execution_count": 37,
   "id": "e24e909e-6aff-4fb9-b4c3-4480d54704b9",
   "metadata": {},
   "outputs": [
    {
     "data": {
      "text/plain": [
       "str"
      ]
     },
     "execution_count": 37,
     "metadata": {},
     "output_type": "execute_result"
    }
   ],
   "source": [
    "name=\"king\"\n",
    "type(name)"
   ]
  },
  {
   "cell_type": "markdown",
   "id": "848e09f6-f236-4c5f-8d40-a0ffb1514007",
   "metadata": {},
   "source": [
    "#red color=string\n",
    "#green= keyword\n",
    "#black= variablem"
   ]
  },
  {
   "cell_type": "code",
   "execution_count": 38,
   "id": "6f47a44e-050d-47ce-a54c-afb0d60d3ddc",
   "metadata": {},
   "outputs": [],
   "source": [
    "name='ndnd'\n",
    "name1=\"hdjhd\""
   ]
  },
  {
   "cell_type": "code",
   "execution_count": 39,
   "id": "d8976fb9-3d9e-4c8b-8c25-329f866363f6",
   "metadata": {},
   "outputs": [
    {
     "data": {
      "text/plain": [
       "'ndnd'"
      ]
     },
     "execution_count": 39,
     "metadata": {},
     "output_type": "execute_result"
    }
   ],
   "source": [
    "name"
   ]
  },
  {
   "cell_type": "code",
   "execution_count": 40,
   "id": "9ff9417a-aaa6-4976-bff7-e558afd5170d",
   "metadata": {},
   "outputs": [
    {
     "data": {
      "text/plain": [
       "'hdjhd'"
      ]
     },
     "execution_count": 40,
     "metadata": {},
     "output_type": "execute_result"
    }
   ],
   "source": [
    "name1"
   ]
  },
  {
   "cell_type": "markdown",
   "id": "0456fd77-f2b5-4707-8f0c-842a385632cf",
   "metadata": {},
   "source": [
    "- output always single cote\n"
   ]
  },
  {
   "cell_type": "code",
   "execution_count": 41,
   "id": "f68c1471-0a47-4384-a9cd-79befb4ce925",
   "metadata": {},
   "outputs": [
    {
     "name": "stdout",
     "output_type": "stream",
     "text": [
      "ndnd\n"
     ]
    }
   ],
   "source": [
    "print(name)"
   ]
  },
  {
   "cell_type": "markdown",
   "id": "b8cf5ea5-6d3f-4147-b906-aa5521070853",
   "metadata": {},
   "source": [
    "- no cotes in printm"
   ]
  },
  {
   "cell_type": "code",
   "execution_count": 42,
   "id": "b6389b04-42c8-4618-8d73-b002e358d538",
   "metadata": {},
   "outputs": [
    {
     "data": {
      "text/plain": [
       "\"i like 'python'\""
      ]
     },
     "execution_count": 42,
     "metadata": {},
     "output_type": "execute_result"
    }
   ],
   "source": [
    "name=\"i like 'python'\"\n",
    "name"
   ]
  },
  {
   "cell_type": "code",
   "execution_count": 43,
   "id": "fed212b3-ed1b-479c-9fcd-080e5af6f373",
   "metadata": {},
   "outputs": [
    {
     "name": "stdout",
     "output_type": "stream",
     "text": [
      "i like 'python'\n"
     ]
    }
   ],
   "source": [
    "print(name)"
   ]
  },
  {
   "cell_type": "code",
   "execution_count": 44,
   "id": "439d3533-ef85-4914-95a2-e3be56796e2d",
   "metadata": {},
   "outputs": [
    {
     "data": {
      "text/plain": [
       "'i like \"python\"'"
      ]
     },
     "execution_count": 44,
     "metadata": {},
     "output_type": "execute_result"
    }
   ],
   "source": [
    "str='i like \"python\"'\n",
    "str"
   ]
  },
  {
   "cell_type": "code",
   "execution_count": 45,
   "id": "57431e45-342f-4876-a1be-3be9bf4df3a1",
   "metadata": {},
   "outputs": [
    {
     "name": "stdout",
     "output_type": "stream",
     "text": [
      "i like \"python\"\n"
     ]
    }
   ],
   "source": [
    "print(str)"
   ]
  },
  {
   "cell_type": "markdown",
   "id": "93a6b6c5-ff66-404b-8683-ab8adebaaa1e",
   "metadata": {},
   "source": [
    "- entire string in doublecote the highlited in single viseversam"
   ]
  },
  {
   "cell_type": "markdown",
   "id": "8f18102c-3181-4450-9f66-693b01bad9c5",
   "metadata": {},
   "source": [
    "***triple quotes***\n",
    "- not used for coding\n",
    "- it is wsed for providing information to clint of end user\n",
    "- in vs code pycham thereis no markdown option then it is require\n",
    "- this process is called ***Doc String***"
   ]
  },
  {
   "cell_type": "markdown",
   "id": "d9dc1ade-1f48-489b-830e-3de4fcc7fb09",
   "metadata": {},
   "source": [
    "***BOOLEAN***"
   ]
  },
  {
   "cell_type": "code",
   "execution_count": 46,
   "id": "e6b6dd12-6b59-4d3c-ba62-7e78f7ce2434",
   "metadata": {},
   "outputs": [
    {
     "data": {
      "text/plain": [
       "bool"
      ]
     },
     "execution_count": 46,
     "metadata": {},
     "output_type": "execute_result"
    }
   ],
   "source": [
    "VALUE=True\n",
    "type(VALUE)"
   ]
  },
  {
   "cell_type": "code",
   "execution_count": 47,
   "id": "2cf17289-cbc3-482f-8968-902127f97ccc",
   "metadata": {},
   "outputs": [],
   "source": [
    "true='True'\n",
    "false=False\n",
    "\n",
    "#true and false are variable\n",
    "#type of true string\n",
    "#type false is boolian"
   ]
  },
  {
   "cell_type": "code",
   "execution_count": null,
   "id": "fb7897da-848e-4019-8d8a-2ae0c53788c2",
   "metadata": {},
   "outputs": [],
   "source": []
  }
 ],
 "metadata": {
  "kernelspec": {
   "display_name": "Python 3 (ipykernel)",
   "language": "python",
   "name": "python3"
  },
  "language_info": {
   "codemirror_mode": {
    "name": "ipython",
    "version": 3
   },
   "file_extension": ".py",
   "mimetype": "text/x-python",
   "name": "python",
   "nbconvert_exporter": "python",
   "pygments_lexer": "ipython3",
   "version": "3.11.7"
  }
 },
 "nbformat": 4,
 "nbformat_minor": 5
}
